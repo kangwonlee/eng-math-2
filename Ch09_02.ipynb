{
 "nbformat": 4,
 "nbformat_minor": 0,
 "metadata": {
  "colab": {
   "private_outputs": true,
   "provenance": [
    {
     "file_id": "https://github.com/kangwonlee/eng-math-2/blob/main/Ch09_01.ipynb",
     "timestamp": 1729581760720
    }
   ]
  },
  "kernelspec": {
   "name": "python3",
   "display_name": "Python 3"
  },
  "language_info": {
   "name": "python"
  }
 },
 "cells": [
  {
   "cell_type": "markdown",
   "metadata": {
    "id": "view-in-github",
    "colab_type": "text"
   },
   "source": [
    "<a href=\"https://colab.research.google.com/github/kangwonlee/eng-math-2/blob/main/Ch09_02.ipynb\" target=\"_parent\"><img src=\"https://colab.research.google.com/assets/colab-badge.svg\" alt=\"Open In Colab\"/></a>\n"
   ]
  },
  {
   "cell_type": "code",
   "execution_count": null,
   "metadata": {},
   "outputs": [],
   "source": [
    "import matplotlib.pyplot as plt\n",
    "import numpy as np\n",
    "\n"
   ]
  },
  {
   "cell_type": "markdown",
   "source": [
    "Example 9.2.1 Velocity & Acceleration Vectors\n",
    "\n"
   ],
   "metadata": {}
  },
  {
   "cell_type": "code",
   "source": [
    "def r(t):\n",
    "  x = t**2\n",
    "  y = t\n",
    "  z = 2.5 * t\n",
    "  return x, y, z\n",
    "\n"
   ],
   "metadata": {},
   "execution_count": null,
   "outputs": []
  },
  {
   "cell_type": "code",
   "source": [
    "def drdt(t):\n",
    "  x = 2 * t\n",
    "  y = 1\n",
    "  z = 2.5\n",
    "  return x, y, z\n",
    "\n"
   ],
   "metadata": {},
   "execution_count": null,
   "outputs": []
  },
  {
   "cell_type": "code",
   "source": [
    "def d2rdt2(t):\n",
    "  x = 2\n",
    "  y = 0\n",
    "  z = 0\n",
    "  return x, y, z\n",
    "\n"
   ],
   "metadata": {},
   "execution_count": null,
   "outputs": []
  },
  {
   "cell_type": "markdown",
   "source": [
    "Curve\n"
   ],
   "metadata": {}
  },
  {
   "cell_type": "code",
   "source": [
    "t = np.linspace(0, 5)\n",
    "x, y, z = r(t)\n",
    "\n"
   ],
   "metadata": {},
   "execution_count": null,
   "outputs": []
  },
  {
   "cell_type": "markdown",
   "source": [
    "Point\n"
   ],
   "metadata": {}
  },
  {
   "cell_type": "code",
   "source": [
    "x2, y2, z2 = r(2)\n",
    "vx2, vy2, vz2 = drdt(2)\n",
    "ax2, ay2, az2 = d2rdt2(2)\n",
    "\n"
   ],
   "metadata": {},
   "execution_count": null,
   "outputs": []
  },
  {
   "cell_type": "code",
   "source": [
    "ax = plt.figure().add_subplot(projection='3d')\n",
    "plt.plot(x, y, z)\n",
    "ax.quiver(\n",
    "    x2, y2, z2,\n",
    "    vx2, vy2, vz2,\n",
    "    color='g'\n",
    ")\n",
    "\n",
    "ax.quiver(\n",
    "    x2, y2, z2,\n",
    "    ax2, ay2, az2,\n",
    "    color='r'\n",
    ")\n",
    "\n",
    "plt.xlabel('x')\n",
    "plt.ylabel('y')\n",
    "plt.grid(True)\n",
    "\n"
   ],
   "metadata": {},
   "execution_count": null,
   "outputs": []
  }
 ]
}