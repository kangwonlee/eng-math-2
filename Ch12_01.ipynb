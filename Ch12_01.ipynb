{
 "cells": [
  {
   "cell_type": "markdown",
   "metadata": {
    "id": "view-in-github",
    "colab_type": "text"
   },
   "source": [
    "<a href=\"https://colab.research.google.com/github/kangwonlee/eng-math-2/blob/fourier-series-class/Ch12_01.ipynb\" target=\"_parent\"><img src=\"https://colab.research.google.com/assets/colab-badge.svg\" alt=\"Open In Colab\"/></a>\n"
   ]
  },
  {
   "cell_type": "code",
   "execution_count": null,
   "metadata": {},
   "outputs": [],
   "source": [
    "import matplotlib.pyplot as plt\n",
    "import numpy as np\n",
    "import sympy as sym\n",
    "\n"
   ]
  },
  {
   "cell_type": "markdown",
   "metadata": {},
   "source": [
    "## Example 12.1.1\n",
    "\n"
   ]
  },
  {
   "cell_type": "code",
   "execution_count": null,
   "metadata": {},
   "outputs": [],
   "source": [
    "def calc_f0(x):\n",
    "    return x * x\n",
    "\n"
   ]
  },
  {
   "cell_type": "code",
   "execution_count": null,
   "metadata": {},
   "outputs": [],
   "source": [
    "def calc_f1(x):\n",
    "    return x ** 3\n",
    "\n"
   ]
  },
  {
   "cell_type": "code",
   "execution_count": null,
   "metadata": {},
   "outputs": [],
   "source": [
    "x = np.linspace(-1, 1)\n",
    "f0 = calc_f0(x)\n",
    "f1 = calc_f1(x)\n",
    "\n"
   ]
  },
  {
   "cell_type": "code",
   "execution_count": null,
   "metadata": {},
   "outputs": [],
   "source": [
    "plt.subplot(2, 1, 1)\n",
    "plt.fill_between(x, f0, label='$f_0$')\n",
    "plt.ylabel('$f_0 (x)$')\n",
    "plt.grid(True)\n",
    "plt.subplot(2, 1, 2)\n",
    "plt.fill_between(x, f1, label='$f_1$')\n",
    "plt.ylabel('$f_1 (x)$')\n",
    "plt.xlabel('x')\n",
    "plt.grid(True)\n",
    "\n"
   ]
  },
  {
   "cell_type": "markdown",
   "metadata": {},
   "source": [
    "## Example 12.1.2\n",
    "\n"
   ]
  },
  {
   "cell_type": "code",
   "execution_count": null,
   "metadata": {},
   "outputs": [],
   "source": [
    "def calc_phi(i, x):\n",
    "    return np.cos(i*x)\n",
    "\n"
   ]
  },
  {
   "cell_type": "code",
   "execution_count": null,
   "metadata": {},
   "outputs": [],
   "source": [
    "x = np.linspace(-1, 1)\n",
    "\n",
    "\n"
   ]
  },
  {
   "cell_type": "code",
   "execution_count": null,
   "metadata": {},
   "outputs": [],
   "source": [
    "x = np.linspace(-np.pi, np.pi, 361)\n",
    "N = 5\n",
    "\n",
    "x_tick = np.linspace(-np.pi, np.pi, 5)\n",
    "\n",
    "for m in range(1, N+1):\n",
    "    phi_m = calc_phi(m, x)\n",
    "    for n in range(1, N+1):\n",
    "        phi_n = calc_phi(n, x)\n",
    "        integrand = phi_m * phi_n\n",
    "        plt.subplot(N, N, (m-1)*N + n)\n",
    "        plt.fill_between(x, integrand, label='$\\phi_m \\phi_n $')\n",
    "        plt.tick_params(axis='x',which='both',bottom=False, top=False, labelbottom=False)\n",
    "        plt.tick_params(axis='y',which='both',bottom=False, top=False, labelleft=False)\n",
    "        plt.xticks(x_tick)\n",
    "        plt.title(f'({m}, {n})')\n",
    "        plt.grid(True)\n",
    "\n",
    "plt.tight_layout()\n",
    "\n"
   ]
  },
  {
   "cell_type": "markdown",
   "metadata": {},
   "source": [
    "## Example 12.1.3\n",
    "\n"
   ]
  },
  {
   "cell_type": "code",
   "execution_count": null,
   "metadata": {},
   "outputs": [],
   "source": [
    "n = sym.symbols('n', integer=True)\n",
    "x = sym.symbols('x', real=True)\n",
    "\n"
   ]
  },
  {
   "cell_type": "code",
   "execution_count": null,
   "metadata": {},
   "outputs": [],
   "source": [
    "sym.integrate(sym.cos(n*x)**2, x)\n",
    "\n"
   ]
  },
  {
   "cell_type": "code",
   "execution_count": null,
   "metadata": {},
   "outputs": [],
   "source": [
    "sym.integrate(sym.cos(n*x)**2, (x, -sym.pi, sym.pi))\n",
    "\n"
   ]
  },
  {
   "cell_type": "code",
   "execution_count": null,
   "metadata": {},
   "outputs": [],
   "source": [
    "def calc_phi(i, x):\n",
    "    return np.cos(i*x)\n",
    "\n"
   ]
  },
  {
   "cell_type": "code",
   "execution_count": null,
   "metadata": {},
   "outputs": [],
   "source": [
    "x = np.linspace(-1, 1)\n",
    "\n",
    "\n"
   ]
  },
  {
   "cell_type": "code",
   "execution_count": null,
   "metadata": {},
   "outputs": [],
   "source": [
    "x = np.linspace(-np.pi, np.pi, 361)\n",
    "N = 5\n",
    "\n",
    "x_tick = np.linspace(-np.pi, np.pi, 5)\n",
    "\n",
    "for n in range(N):\n",
    "    phi_n = calc_phi(n, x)\n",
    "    integrand = phi_n * phi_n\n",
    "    plt.subplot(N, 1, n+1)\n",
    "    plt.fill_between(x, integrand)\n",
    "    plt.tick_params(axis='x',which='both',bottom=False, top=False, labelbottom=False)\n",
    "    plt.tick_params(axis='y',which='both',bottom=False, top=False, labelleft=False)\n",
    "    plt.xticks(x_tick)\n",
    "    plt.title(fr'$\\left(\\phi_{n}(x)\\right)^2$')\n",
    "    plt.grid(True)\n",
    "\n",
    "plt.tight_layout()\n",
    "\n"
   ]
  },
  {
   "cell_type": "raw",
   "metadata": {},
   "source": []
  }
 ],
 "metadata": {
  "kernelspec": {
   "display_name": "Python 3 (ipykernel)",
   "language": "python",
   "name": "python3"
  },
  "language_info": {
   "codemirror_mode": {
    "name": "ipython",
    "version": 3
   },
   "file_extension": ".py",
   "mimetype": "text/x-python",
   "name": "python",
   "nbconvert_exporter": "python",
   "pygments_lexer": "ipython3",
   "version": "3.10.0"
  }
 },
 "nbformat": 4,
 "nbformat_minor": 5
}