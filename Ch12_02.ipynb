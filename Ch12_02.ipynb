{
 "cells": [
  {
   "cell_type": "markdown",
   "metadata": {
    "id": "view-in-github",
    "colab_type": "text"
   },
   "source": [
    "<a href=\"https://colab.research.google.com/github/kangwonlee/eng-math-2/blob/main/Ch12_02.ipynb\" target=\"_parent\"><img src=\"https://colab.research.google.com/assets/colab-badge.svg\" alt=\"Open In Colab\"/></a>\n"
   ]
  },
  {
   "cell_type": "code",
   "execution_count": null,
   "metadata": {},
   "outputs": [],
   "source": [
    "import matplotlib.pyplot as plt\n",
    "import numpy as np\n",
    "import sympy as sym\n",
    "\n"
   ]
  },
  {
   "cell_type": "markdown",
   "metadata": {},
   "source": [
    "## Example 12.2.1\n",
    "\n"
   ]
  },
  {
   "cell_type": "code",
   "execution_count": null,
   "metadata": {},
   "outputs": [],
   "source": [
    "n = sym.symbols('n', integer=True)\n",
    "x = sym.symbols('x', real=True)\n",
    "f = sym.pi - x\n",
    "\n",
    "an = sym.integrate((1/sym.pi)* f * sym.cos(n*x), (x,0, sym.pi))\n",
    "an\n",
    "\n"
   ]
  },
  {
   "cell_type": "code",
   "execution_count": null,
   "metadata": {},
   "outputs": [],
   "source": [
    "bn = sym.integrate((1/sym.pi)* f * sym.sin(n*x), (x,0, sym.pi))\n",
    "bn\n",
    "\n"
   ]
  },
  {
   "cell_type": "code",
   "execution_count": null,
   "metadata": {},
   "outputs": [],
   "source": [
    "mx = 5\n",
    "x = np.arange(0, mx+1, 0.01)\n",
    "x_pi = x * np.pi\n",
    "y = np.cos(x_pi)\n",
    "plt.plot(x, y, label=r'$\\cos x$')\n",
    "\n",
    "x_int = np.arange(0, mx)\n",
    "y_int = np.cos(x_int*np.pi)\n",
    "\n",
    "plt.plot(x_int, y_int, '.',label=r'$\\cos n\\pi$')\n",
    "\n",
    "plt.xlabel('$x$')\n",
    "ticks = plt.xticks()\n",
    "plt.xticks(\n",
    "    ticks=ticks[0],\n",
    "    labels=map(\n",
    "        lambda i:fr'${i}\\pi$',\n",
    "        ticks[0]\n",
    "    )\n",
    ")\n",
    "plt.xlim(x.min(), x.max())\n",
    "plt.legend(loc=0)\n",
    "plt.grid(True)\n",
    "\n"
   ]
  },
  {
   "cell_type": "code",
   "execution_count": null,
   "metadata": {},
   "outputs": [],
   "source": [
    "a0 = np.pi * 0.5\n",
    "\n",
    "def calc_f(x_rad):\n",
    "    result = np.zeros_like(x_rad)\n",
    "    x_phase = x_rad % (np.pi*2)\n",
    "    result[x_phase<np.pi]=np.pi + ((-1.0) * x_phase[x_phase<np.pi])\n",
    "    return result\n",
    "\n",
    "\n",
    "def calc_an(n):\n",
    "    return (1 - (-1)**n)/(n*n*np.pi) if n != 0 else (np.pi * 0.5)\n",
    "\n",
    "\n",
    "def calc_bn(n):\n",
    "    return 1 / n if n != 0 else 0\n",
    "\n",
    "\n",
    "def calc_mode_n(x, p_inv, n):\n",
    "    an = calc_an(n)\n",
    "    bn = calc_bn(n)\n",
    "    n_pi = n*np.pi\n",
    "    x_inside = n_pi * x * p_inv\n",
    "    mode_n = an * np.cos(x_inside) + bn * np.sin(x_inside)\n",
    "    return mode_n\n",
    "\n",
    "\n",
    "def calc_Sn(n_sigma, x, p=np.pi):\n",
    "    p_inv = 1.0 / p\n",
    "    result = a0 + np.zeros_like(x)\n",
    "    for n in range(1, n_sigma+1):\n",
    "        mode_n = calc_mode_n(x, p_inv, n)\n",
    "        result += mode_n\n",
    "    return result\n",
    "\n"
   ]
  },
  {
   "cell_type": "code",
   "execution_count": null,
   "metadata": {},
   "outputs": [],
   "source": [
    "N = 10\n",
    "x_n = np.arange(-3, 3+1e-7, 0.01)\n",
    "x = x_n * np.pi\n",
    "\n",
    "fig, axs = plt.subplots(N, 2, figsize=(6, 1.5*N))\n",
    "\n",
    "axs_mode = axs[:,0]\n",
    "axs_fourier = axs[:,1]\n",
    "\n",
    "for n_sigma, ax_mode, ax_fourier in zip(range(N), axs_mode, axs_fourier):\n",
    "    ax_mode.plot(x_n, calc_mode_n(x_n, 1.0/np.pi, n_sigma))\n",
    "\n",
    "    ax_fourier.plot(x_n, calc_f(x))\n",
    "    y_fourier = calc_Sn(n_sigma, x, np.pi)\n",
    "    ax_fourier.plot(x_n, y_fourier)\n",
    "\n",
    "    ticks = ax_mode.get_xticks()\n",
    "    ax_mode.set_xticks(\n",
    "        ticks=ticks,\n",
    "        labels=map(\n",
    "            lambda i:fr'${i}\\pi$',\n",
    "            ticks\n",
    "        )\n",
    "    )\n",
    "\n",
    "    ticks = ax_fourier.get_xticks()\n",
    "    ax_fourier.set_xticks(\n",
    "        ticks=ticks,\n",
    "        labels=map(\n",
    "            lambda i:fr'${i}\\pi$',\n",
    "            ticks\n",
    "        )\n",
    "    )\n",
    "\n",
    "    ax_mode.set_xlim(x_n.min(), x_n.max())\n",
    "    ax_mode.set_ylim(-2, 2)\n",
    "    ax_fourier.set_xlim(x_n.min(), x_n.max())\n",
    "    \n",
    "    ax_mode.grid(True)\n",
    "    ax_fourier.grid(True)\n",
    "\n",
    "plt.tight_layout()\n",
    "\n"
   ]
  },
  {
   "cell_type": "code",
   "execution_count": null,
   "metadata": {},
   "outputs": [],
   "source": []
  }
 ],
 "metadata": {
  "kernelspec": {
   "display_name": "Python 3 (ipykernel)",
   "language": "python",
   "name": "python3"
  },
  "language_info": {
   "codemirror_mode": {
    "name": "ipython",
    "version": 3
   },
   "file_extension": ".py",
   "mimetype": "text/x-python",
   "name": "python",
   "nbconvert_exporter": "python",
   "pygments_lexer": "ipython3",
   "version": "3.10.0"
  }
 },
 "nbformat": 4,
 "nbformat_minor": 5
}