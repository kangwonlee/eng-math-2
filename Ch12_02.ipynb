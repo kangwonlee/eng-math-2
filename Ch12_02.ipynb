{
 "cells": [
  {
   "cell_type": "markdown",
   "metadata": {
    "id": "view-in-github",
    "colab_type": "text"
   },
   "source": [
    "<a href=\"https://colab.research.google.com/github/kangwonlee/eng-math-2/blob/fourier-series-class/Ch12_02.ipynb\" target=\"_parent\"><img src=\"https://colab.research.google.com/assets/colab-badge.svg\" alt=\"Open In Colab\"/></a>\n"
   ]
  },
  {
   "cell_type": "code",
   "execution_count": null,
   "metadata": {},
   "outputs": [],
   "source": [
    "import dataclasses\n",
    "\n",
    "\n",
    "import matplotlib.pyplot as plt\n",
    "import numpy as np\n",
    "import sympy as sym\n",
    "\n"
   ]
  },
  {
   "cell_type": "code",
   "execution_count": null,
   "metadata": {},
   "outputs": [],
   "source": [
    "N = 5\n",
    "p = np.pi\n",
    "\n",
    "x_n = np.arange((-p/np.pi), (p/np.pi)+1e-7, 0.01)\n",
    "x = x_n * np.pi\n",
    "\n",
    "fig, axs = plt.subplots(N-1, 2, figsize=(9, 1.5*N))\n",
    "\n",
    "axs_cos = axs[:,0]\n",
    "axs_sin = axs[:,1]\n",
    "\n",
    "for n_sigma, ax_cos, ax_sin in zip(range(1, N), axs_cos, axs_sin):\n",
    "    n_pi_pinv = n_sigma * np.pi / p\n",
    "    ax_cos.fill_between(x_n, np.cos(x * n_pi_pinv))\n",
    "    ax_cos.grid(True)\n",
    "\n",
    "    ticks = ax_cos.get_xticks()\n",
    "    ax_cos.set_xticks(\n",
    "        ticks=ticks,\n",
    "        labels=map(\n",
    "            lambda i:fr'${i}\\pi$',\n",
    "            ticks\n",
    "        )\n",
    "    )\n",
    "\n",
    "    ax_sin.fill_between(x_n, np.sin(x * n_pi_pinv))\n",
    "    ax_sin.grid(True)\n",
    "\n",
    "    ticks = ax_sin.get_xticks()\n",
    "    ax_sin.set_xticks(\n",
    "        ticks=ticks,\n",
    "        labels=map(\n",
    "            lambda i:fr'${i}\\pi$',\n",
    "            ticks\n",
    "        )\n",
    "    )\n",
    "\n",
    "    ax_cos.set_xlim(x_n.min(), x_n.max())\n",
    "    ax_sin.set_xlim(x_n.min(), x_n.max())\n",
    "\n",
    "plt.tight_layout()\n",
    "\n"
   ]
  },
  {
   "cell_type": "code",
   "execution_count": null,
   "metadata": {},
   "outputs": [],
   "source": [
    "def calc_cos_m(m, x, p=np.pi):\n",
    "    return np.cos((m*np.pi/p)*x)\n",
    "\n",
    "def calc_sin_n(n, x, p=np.pi):\n",
    "    return np.sin((n*np.pi/p)*x)\n",
    "\n"
   ]
  },
  {
   "cell_type": "markdown",
   "metadata": {},
   "source": [
    "$\\cos\\frac{m\\pi}{p}x \\cdot\\sin\\frac{n\\pi}{p}x$ matrix\n",
    "\n"
   ]
  },
  {
   "cell_type": "code",
   "execution_count": null,
   "metadata": {},
   "outputs": [],
   "source": [
    "p = np.pi\n",
    "x = np.linspace(-p, p, 361)\n",
    "N = 5\n",
    "\n",
    "x_tick = np.linspace(-p, p, 5)\n",
    "\n",
    "for m in range(1, N+1):\n",
    "    cos_m = calc_cos_m(m, x, p)\n",
    "    for n in range(1, N+1):\n",
    "        sin_n = calc_sin_n(n, x, p)\n",
    "        integrand = cos_m * sin_n\n",
    "        plt.subplot(N, N, (m-1)*N + n)\n",
    "        plt.fill_between(x, integrand, label='$\\phi_m \\phi_n $')\n",
    "        plt.tick_params(axis='x',which='both',bottom=False, top=False, labelbottom=False)\n",
    "        plt.tick_params(axis='y',which='both',bottom=False, top=False, labelleft=False)\n",
    "        plt.xticks(x_tick)\n",
    "        plt.title(\n",
    "            (\n",
    "                fr'$\\cos\\frac{{1}}{{p}}{m}\\pi x'\n",
    "                r'\\cdot'\n",
    "                fr'\\sin\\frac{{1}}{{p}}{n}\\pi x$'\n",
    "            ),\n",
    "            fontdict={'size':9}\n",
    "        )\n",
    "        plt.grid(True)\n",
    "\n",
    "plt.tight_layout()\n",
    "\n"
   ]
  },
  {
   "cell_type": "markdown",
   "metadata": {},
   "source": [
    "$\\sin\\frac{m\\pi}{p}x \\cdot\\sin\\frac{n\\pi}{p}x$ matrix\n",
    "\n"
   ]
  },
  {
   "cell_type": "code",
   "execution_count": null,
   "metadata": {},
   "outputs": [],
   "source": [
    "p = np.pi\n",
    "x = np.linspace(-p, p, 361)\n",
    "N = 5\n",
    "\n",
    "x_tick = np.linspace(-p, p, 5)\n",
    "\n",
    "for m in range(1, N+1):\n",
    "    sin_m = calc_sin_n(m, x, p)\n",
    "    for n in range(1, N+1):\n",
    "        sin_n = calc_sin_n(n, x, p)\n",
    "        integrand = sin_m * sin_n\n",
    "        plt.subplot(N, N, (m-1)*N + n)\n",
    "        plt.fill_between(x, integrand, label='$\\phi_m \\phi_n $')\n",
    "        plt.tick_params(axis='x',which='both',bottom=False, top=False, labelbottom=False)\n",
    "        plt.tick_params(axis='y',which='both',bottom=False, top=False, labelleft=False)\n",
    "        plt.xticks(x_tick)\n",
    "        plt.title(\n",
    "            (\n",
    "                fr'$\\sin\\frac{{1}}{{p}}{m}\\pi x'\n",
    "                r'\\cdot'\n",
    "                fr'\\sin\\frac{{1}}{{p}}{n}\\pi x$'\n",
    "            ),\n",
    "            fontdict={'size':9}\n",
    "        )\n",
    "        plt.grid(True)\n",
    "\n",
    "plt.tight_layout()\n",
    "\n"
   ]
  },
  {
   "cell_type": "markdown",
   "metadata": {},
   "source": [
    "## Example 12.2.1\n",
    "\n"
   ]
  },
  {
   "cell_type": "code",
   "execution_count": null,
   "metadata": {},
   "outputs": [],
   "source": [
    "n = sym.symbols('n', integer=True)\n",
    "x, p = sym.symbols('x p', real=True)\n",
    "f = p - x\n",
    "\n",
    "a0 = (1/p) * sym.integrate(\n",
    "    f,\n",
    "    (x, 0, p)\n",
    ")\n",
    "sym.simplify(a0)\n",
    "\n"
   ]
  },
  {
   "cell_type": "code",
   "execution_count": null,
   "metadata": {},
   "outputs": [],
   "source": [
    "sym.simplify(a0.subs({p:sym.pi}))\n",
    "\n"
   ]
  },
  {
   "cell_type": "code",
   "execution_count": null,
   "metadata": {},
   "outputs": [],
   "source": [
    "an = (1/p) * sym.integrate(\n",
    "    f * sym.cos( ( n * sym.pi / p ) * x ),\n",
    "    (x, 0, p)\n",
    ")\n",
    "sym.simplify(an)\n",
    "\n"
   ]
  },
  {
   "cell_type": "code",
   "execution_count": null,
   "metadata": {},
   "outputs": [],
   "source": [
    "sym.simplify(an.subs({p:sym.pi}))\n",
    "\n"
   ]
  },
  {
   "cell_type": "code",
   "execution_count": null,
   "metadata": {},
   "outputs": [],
   "source": [
    "bn = (1/p) * sym.integrate(\n",
    "    f * sym.sin( ( n * sym.pi / p ) * x ),\n",
    "    (x,0, p)\n",
    ")\n",
    "sym.simplify(bn)\n",
    "\n"
   ]
  },
  {
   "cell_type": "code",
   "execution_count": null,
   "metadata": {},
   "outputs": [],
   "source": [
    "sym.simplify(bn.subs({p:sym.pi}))\n",
    "\n"
   ]
  },
  {
   "cell_type": "code",
   "execution_count": null,
   "metadata": {},
   "outputs": [],
   "source": [
    "mx = 5\n",
    "x = np.arange(0, mx+1, 0.01)\n",
    "x_pi = x * np.pi\n",
    "y = np.cos(x_pi)\n",
    "plt.plot(x, y, label=r'$\\cos x$')\n",
    "\n",
    "x_int = np.arange(0, mx)\n",
    "y_int = np.cos(x_int*np.pi)\n",
    "\n",
    "plt.plot(x_int, y_int, '.',label=r'$\\cos n\\pi$')\n",
    "\n",
    "plt.xlabel('$x$')\n",
    "ticks = plt.xticks()\n",
    "plt.xticks(\n",
    "    ticks=ticks[0],\n",
    "    labels=map(\n",
    "        lambda i:fr'${i}\\pi$',\n",
    "        ticks[0]\n",
    "    )\n",
    ")\n",
    "plt.xlim(x.min(), x.max())\n",
    "plt.legend(loc=0)\n",
    "plt.grid(True)\n",
    "\n"
   ]
  },
  {
   "cell_type": "markdown",
   "metadata": {},
   "source": [
    "### Fourier Series plot\n",
    "\n"
   ]
  },
  {
   "cell_type": "code",
   "execution_count": null,
   "metadata": {},
   "outputs": [],
   "source": [
    "@dataclasses.dataclass\n",
    "class FourierSeriesPlotter:\n",
    "    N:int = 10\n",
    "    p:float = np.pi\n",
    "    n_start_p:int = -3\n",
    "    n_end_p:int = 3\n",
    "    n_begin_mode:int = 0\n",
    "\n",
    "    def __post_init__(self):\n",
    "        self.pinv = 1.0 / self.p\n",
    "\n",
    "    def calc_f(self, x_rad):\n",
    "        result = np.zeros_like(x_rad)\n",
    "        x_phase = x_rad % (np.pi*2)\n",
    "        result[x_phase<np.pi]=np.pi + ((-1.0) * x_phase[x_phase<np.pi])\n",
    "        return result\n",
    "\n",
    "    def calc_an(self, n):\n",
    "        return (1 - (-1)**n)/(n*n*np.pi) if n != 0 else (np.pi * 0.5)\n",
    "\n",
    "    def calc_bn(self, n):\n",
    "        return 1 / n if n != 0 else 0\n",
    "\n",
    "    def calc_mode_n(self, x, n):\n",
    "        an = self.calc_an(n)\n",
    "        bn = self.calc_bn(n)\n",
    "        n_pi_pinv = n*np.pi* self.pinv\n",
    "        x_inside = n_pi_pinv * x\n",
    "        mode_n = an * np.cos(x_inside) + bn * np.sin(x_inside)\n",
    "        return mode_n\n",
    "\n",
    "    def calc_Sn(self, n_sigma, x):\n",
    "        result = np.zeros_like(x)\n",
    "        for n in range(self.n_begin_mode, n_sigma+1):\n",
    "            mode_n = self.calc_mode_n(x, n)\n",
    "            result += mode_n\n",
    "        return result\n",
    "\n",
    "    def plot(self):\n",
    "        x_n = np.arange(self.n_start_p, self.n_end_p+1e-7, 0.01)\n",
    "        x_vlines = np.arange(self.n_start_p, self.n_end_p+1) * self.p\n",
    "        x = x_n * self.p\n",
    "\n",
    "        fig, axs = plt.subplots(self.N-1, 2, figsize=(12, 1.5*(self.N-1)))\n",
    "\n",
    "        axs_mode = axs[:,0]\n",
    "        axs_fourier = axs[:,1]\n",
    "\n",
    "        for n_sigma, ax_mode, ax_fourier in zip(range(self.n_begin_mode, self.N), axs_mode, axs_fourier):\n",
    "            ax_mode.plot(x, self.calc_mode_n(x, n_sigma))\n",
    "\n",
    "            ax_fourier.plot(x, self.calc_f(x))\n",
    "            y_fourier = self.calc_Sn(n_sigma, x)\n",
    "            ax_fourier.plot(x, y_fourier)\n",
    "\n",
    "            ax_mode.set_xticks([])\n",
    "            ax_fourier.set_xticks([])\n",
    "\n",
    "            ax_mode.set_xlim(x.min(), x.max())\n",
    "            ax_mode.set_ylim(-2, 2)\n",
    "            ax_fourier.set_xlim(x.min(), x.max())\n",
    "\n",
    "            ymin, ymax = ax_fourier.get_ylim()\n",
    "            ax_fourier.vlines(x_vlines, ymin, ymax, linestyles='dotted')\n",
    "\n",
    "            ymin, ymax = ax_mode.get_ylim()\n",
    "            ax_mode.vlines(x_vlines, ymin, ymax, linestyles='dotted')\n",
    "\n",
    "            ax_mode.grid(True)\n",
    "            ax_fourier.grid(True)\n",
    "\n",
    "        plt.tight_layout()\n",
    "\n",
    "    def calc_spectrum(self):\n",
    "        freq_rad_list = [0]\n",
    "\n",
    "        a_list = [self.calc_an(0)]\n",
    "        b_list = [0]\n",
    "\n",
    "        mag_list = [abs(self.calc_an(0))]\n",
    "        arg_rad_list = [0.0]\n",
    "\n",
    "        for n in range(self.n_begin_mode, self.N):\n",
    "            an = self.calc_an(n)\n",
    "            bn = self.calc_bn(n)\n",
    "\n",
    "            freq_rad_list.append(n*np.pi/self.p)\n",
    "            a_list.append(an)\n",
    "            b_list.append(bn)\n",
    "\n",
    "            mag_list.append((an**2 + bn**2)**0.5)\n",
    "            arg_rad_list.append(np.arctan2(-bn, an))\n",
    "\n",
    "        return {\n",
    "            'freq(rad)': tuple(freq_rad_list),\n",
    "            'real': tuple(a_list),\n",
    "            'imag': tuple(b_list),\n",
    "            'mag' : tuple(mag_list),\n",
    "            'phase(rad)': tuple(arg_rad_list),\n",
    "        }\n",
    "\n",
    "    def plot_spectrum(self):\n",
    "        s = self.calc_spectrum()\n",
    "\n",
    "        freq_rad_list = s['freq(rad)']\n",
    "        mag_list = s['mag']\n",
    "        arg_rad_list = s['phase(rad)']\n",
    "\n",
    "        # wrap phase to avoid excessive discontinuity\n",
    "        arg_rad_array = np.array(arg_rad_list)\n",
    "        arg_deg_array = np.rad2deg(arg_rad_list)\n",
    "\n",
    "        freq_deg_array = np.array(freq_rad_list) * (0.5 / np.pi)\n",
    "\n",
    "        plt.close()\n",
    "        plt.subplot(2, 1, 1)\n",
    "        plt.plot(freq_deg_array, mag_list, '.-')\n",
    "        plt.ylabel('magnitude')\n",
    "        plt.grid(True)\n",
    "\n",
    "        plt.subplot(2, 1, 2)\n",
    "        plt.plot(freq_deg_array, arg_deg_array, '.-')\n",
    "        plt.xlabel('freq(Hz)')\n",
    "        plt.ylabel('phase(deg)')\n",
    "        plt.grid(True)\n",
    "        plt.tight_layout()\n",
    "\n"
   ]
  },
  {
   "cell_type": "code",
   "execution_count": null,
   "metadata": {},
   "outputs": [],
   "source": [
    "p = FourierSeriesPlotter()\n",
    "p.plot()\n",
    "\n"
   ]
  },
  {
   "cell_type": "markdown",
   "metadata": {},
   "source": [
    "### Spectrum\n",
    "\n"
   ]
  },
  {
   "cell_type": "code",
   "execution_count": null,
   "metadata": {},
   "outputs": [],
   "source": [
    "p.plot_spectrum()\n",
    "\n"
   ]
  },
  {
   "cell_type": "code",
   "execution_count": null,
   "metadata": {},
   "outputs": [],
   "source": []
  }
 ],
 "metadata": {
  "kernelspec": {
   "display_name": "Python 3 (ipykernel)",
   "language": "python",
   "name": "python3"
  },
  "language_info": {
   "codemirror_mode": {
    "name": "ipython",
    "version": 3
   },
   "file_extension": ".py",
   "mimetype": "text/x-python",
   "name": "python",
   "nbconvert_exporter": "python",
   "pygments_lexer": "ipython3",
   "version": "3.10.0"
  }
 },
 "nbformat": 4,
 "nbformat_minor": 5
}