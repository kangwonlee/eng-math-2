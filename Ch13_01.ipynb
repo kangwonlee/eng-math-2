{
 "cells": [
  {
   "cell_type": "markdown",
   "metadata": {
    "id": "view-in-github",
    "colab_type": "text"
   },
   "source": [
    "<a href=\"https://colab.research.google.com/github/kangwonlee/eng-math-2/blob/fourier-series-class/Ch13_01.ipynb\" target=\"_parent\"><img src=\"https://colab.research.google.com/assets/colab-badge.svg\" alt=\"Open In Colab\"/></a>\n"
   ]
  },
  {
   "cell_type": "code",
   "execution_count": null,
   "metadata": {},
   "outputs": [],
   "source": [
    "import matplotlib.pyplot as plt\n",
    "import numpy as np\n",
    "\n",
    "from mpl_toolkits.mplot3d import Axes3D\n",
    "\n"
   ]
  },
  {
   "cell_type": "code",
   "execution_count": null,
   "metadata": {},
   "outputs": [],
   "source": [
    "x = np.linspace(-2, 2)\n",
    "\n",
    "plt.plot(x, np.exp(x), label='$\\exp x$')\n",
    "plt.plot(x, np.sin(x), label='$\\sin x$')\n",
    "plt.plot(x, np.cos(x), label='$\\cos x$')\n",
    "plt.plot(x, np.sinh(x), '-.', label='$\\sinh x$')\n",
    "plt.plot(x, np.cosh(x), '-.', label='$\\cosh x$')\n",
    "plt.xlabel('x')\n",
    "plt.legend(loc=0)\n",
    "plt.grid(True)\n",
    "\n"
   ]
  },
  {
   "cell_type": "markdown",
   "metadata": {},
   "source": [
    "## Example 13.1.2\n",
    "\n"
   ]
  },
  {
   "cell_type": "markdown",
   "metadata": {},
   "source": [
    "### $\\lambda=-\\alpha^2$\n",
    "\n"
   ]
  },
  {
   "cell_type": "code",
   "execution_count": null,
   "metadata": {},
   "outputs": [],
   "source": [
    "class Plot13_1_2_b:\n",
    "    def __init__(self, alpha=1.0, A=1.0, B=1.0):\n",
    "        self.alpha = alpha\n",
    "        self.alpha2 = alpha ** 2\n",
    "        self.A = A\n",
    "        self.B = B\n",
    "\n",
    "    def calc_u(self, X, Y):\n",
    "        return (\n",
    "            self.A * np.exp(self.alpha2*Y) * np.cosh(2*self.alpha*X)\n",
    "            + self.B * np.exp(self.alpha2*Y) * np.sinh(2*self.alpha*X)\n",
    "        )\n",
    "\n",
    "    def plot(self, x=1.0, y=1.0, contour_levels=20):\n",
    "        self.x = np.linspace(-x, x)\n",
    "        self.y = np.linspace(-y, y)\n",
    "        self.X, self.Y = np.meshgrid(self.x, self.y)\n",
    "        self.u = self.calc_u(self.X, self.Y)\n",
    "\n",
    "        self.ax = plt.figure().add_subplot(projection='3d')\n",
    "        self.surf = self.ax.plot_surface(self.X, self.Y, self.u, cmap='viridis', alpha=0.7)\n",
    "        self.ax.contour(self.X, self.Y, self.u, contour_levels)\n",
    "        self.ax.set_xlabel('x')\n",
    "        self.ax.set_ylabel('y')\n",
    "        plt.colorbar(self.surf)\n",
    "        self.ax.set_title(fr'A={self.A} B={self.B} $\\alpha$={self.alpha}')\n",
    "\n"
   ]
  },
  {
   "cell_type": "code",
   "execution_count": null,
   "metadata": {},
   "outputs": [],
   "source": [
    "p = Plot13_1_2_b()\n",
    "p.plot()\n",
    "\n"
   ]
  },
  {
   "cell_type": "markdown",
   "metadata": {},
   "source": [
    "### $\\lambda=\\alpha^2$\n",
    "\n"
   ]
  },
  {
   "cell_type": "code",
   "execution_count": null,
   "metadata": {},
   "outputs": [],
   "source": [
    "class Plot13_1_2_c(Plot13_1_2_b):\n",
    "    def calc_u(self, X, Y):\n",
    "        return (\n",
    "            self.A * np.exp(-self.alpha2*Y) * np.cos(2*self.alpha*X)\n",
    "            + self.B * np.exp(-self.alpha2*Y) * np.sin(2*self.alpha*X)\n",
    "        )\n",
    "\n"
   ]
  },
  {
   "cell_type": "code",
   "execution_count": null,
   "metadata": {},
   "outputs": [],
   "source": [
    "p = Plot13_1_2_c()\n",
    "p.plot(x=3.0, y=3.0)\n",
    "\n"
   ]
  },
  {
   "cell_type": "code",
   "execution_count": null,
   "metadata": {},
   "outputs": [],
   "source": []
  }
 ],
 "metadata": {
  "kernelspec": {
   "display_name": "Python 3 (ipykernel)",
   "language": "python",
   "name": "python3"
  },
  "language_info": {
   "codemirror_mode": {
    "name": "ipython",
    "version": 3
   },
   "file_extension": ".py",
   "mimetype": "text/x-python",
   "name": "python",
   "nbconvert_exporter": "python",
   "pygments_lexer": "ipython3",
   "version": "3.10.0"
  }
 },
 "nbformat": 4,
 "nbformat_minor": 5
}