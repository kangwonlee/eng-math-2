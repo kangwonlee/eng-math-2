{
 "cells": [
  {
   "cell_type": "markdown",
   "metadata": {
    "id": "view-in-github",
    "colab_type": "text"
   },
   "source": [
    "<a href=\"https://colab.research.google.com/github/kangwonlee/eng-math-2/blob/main/Ch09_09.ipynb\" target=\"_parent\"><img src=\"https://colab.research.google.com/assets/colab-badge.svg\" alt=\"Open In Colab\"/></a>\n"
   ]
  },
  {
   "cell_type": "code",
   "execution_count": null,
   "metadata": {},
   "outputs": [],
   "source": [
    "import numpy as np\n",
    "import matplotlib.pyplot as plt\n",
    "from mpl_toolkits.mplot3d import Axes3D\n",
    "from mpl_toolkits.mplot3d.art3d import Poly3DCollection\n",
    "\n"
   ]
  },
  {
   "cell_type": "markdown",
   "metadata": {
    "jp-MarkdownHeadingCollapsed": true
   },
   "source": [
    "### Fill Between\n",
    "\n"
   ]
  },
  {
   "cell_type": "code",
   "execution_count": null,
   "metadata": {},
   "outputs": [],
   "source": [
    "def fill_between_3d(ax,x1,y1,z1,x2,y2,z2,mode=1,c='steelblue',alpha=0.6):\n",
    "\n",
    "    \"\"\"\n",
    "\n",
    "    Function similar to the matplotlib.pyplot.fill_between function but\n",
    "    for 3D plots.\n",
    "\n",
    "    input:\n",
    "\n",
    "        ax -> The axis where the function will plot.\n",
    "\n",
    "        x1 -> 1D array. x coordinates of the first line.\n",
    "        y1 -> 1D array. y coordinates of the first line.\n",
    "        z1 -> 1D array. z coordinates of the first line.\n",
    "\n",
    "        x2 -> 1D array. x coordinates of the second line.\n",
    "        y2 -> 1D array. y coordinates of the second line.\n",
    "        z2 -> 1D array. z coordinates of the second line.\n",
    "\n",
    "    modes:\n",
    "\n",
    "        mode = 1 -> Fill between the lines using the shortest distance between\n",
    "                    both. Makes a lot of single trapezoids in the diagonals\n",
    "                    between lines and then adds them into a single collection.\n",
    "\n",
    "        mode = 2 -> Uses the lines as the edges of one only 3d polygon.\n",
    "\n",
    "    Other parameters (for matplotlib):\n",
    "\n",
    "        c -> the color of the polygon collection.\n",
    "        alpha -> transparency of the polygon collection.\n",
    "\n",
    "    \"\"\"\n",
    "\n",
    "    if mode == 1:\n",
    "\n",
    "        for i in range(len(x1)-1):\n",
    "\n",
    "            verts = [(x1[i],y1[i],z1[i]), (x1[i+1],y1[i+1],z1[i+1])] + \\\n",
    "                    [(x2[i+1],y2[i+1],z2[i+1]), (x2[i],y2[i],z2[i])]\n",
    "\n",
    "            ax.add_collection3d(Poly3DCollection([verts],\n",
    "                                                 alpha=alpha,\n",
    "                                                 linewidths=0,\n",
    "                                                 color=c))\n",
    "\n",
    "    if mode == 2:\n",
    "\n",
    "        verts = [(x1[i],y1[i],z1[i]) for i in range(len(x1))] + \\\n",
    "                [(x2[i],y2[i],z2[i]) for i in range(len(x2))]\n",
    "\n",
    "        ax.add_collection3d(Poly3DCollection([verts],alpha=alpha,color=c))\n",
    "\n"
   ]
  },
  {
   "cell_type": "markdown",
   "metadata": {},
   "source": [
    "## Example 9.9.1\n",
    "\n"
   ]
  },
  {
   "cell_type": "markdown",
   "metadata": {},
   "source": [
    "### a)\n",
    "\n"
   ]
  },
  {
   "cell_type": "code",
   "execution_count": null,
   "metadata": {},
   "outputs": [],
   "source": [
    "def calc_y(x):\n",
    "    return x * x\n",
    "\n"
   ]
  },
  {
   "cell_type": "code",
   "execution_count": null,
   "metadata": {},
   "outputs": [],
   "source": [
    "x = np.linspace(0, 1)\n",
    "y = calc_y(x)\n",
    "\n"
   ]
  },
  {
   "cell_type": "code",
   "execution_count": null,
   "metadata": {},
   "outputs": [],
   "source": [
    "set0 = [x, np.zeros_like(y), y]\n",
    "set1 = [x, np.zeros_like(y), np.zeros_like(y)]\n",
    "\n",
    "set2 = [np.zeros_like(x), y, x]\n",
    "set3 = [np.zeros_like(x), y,np.zeros_like(x)]\n",
    "\n",
    "\n",
    "fig = plt.figure()\n",
    "ax = fig.add_subplot(111, projection='3d')\n",
    "\n",
    "ax.plot(x, y)\n",
    "\n",
    "ax.plot(*set0, lw=4)\n",
    "ax.plot(*set1, lw=4)\n",
    "fill_between_3d(ax, *set0, *set1, mode = 1)\n",
    "\n",
    "\n",
    "ax.plot(*set2, lw=4)\n",
    "ax.plot(*set3, lw=4)\n",
    "fill_between_3d(ax, *set2, *set3, mode = 1)\n",
    "\n",
    "\n",
    "plt.xlabel('x')\n",
    "plt.ylabel('y')\n",
    "plt.grid(True)\n",
    "\n"
   ]
  },
  {
   "cell_type": "markdown",
   "metadata": {},
   "source": [
    "### b)\n",
    "\n"
   ]
  },
  {
   "cell_type": "code",
   "execution_count": null,
   "metadata": {},
   "outputs": [],
   "source": [
    "def calc_y(x):\n",
    "    return x \n",
    "\n"
   ]
  },
  {
   "cell_type": "code",
   "execution_count": null,
   "metadata": {},
   "outputs": [],
   "source": [
    "x = np.linspace(0, 1)\n",
    "y = calc_y(x)\n",
    "\n"
   ]
  },
  {
   "cell_type": "code",
   "execution_count": null,
   "metadata": {
    "scrolled": true
   },
   "outputs": [],
   "source": [
    "set0 = [x, np.zeros_like(y), y]\n",
    "set1 = [x, np.zeros_like(y), np.zeros_like(y)]\n",
    "\n",
    "set2 = [np.zeros_like(x), y, x]\n",
    "set3 = [np.zeros_like(x), y,np.zeros_like(x)]\n",
    "\n",
    "\n",
    "fig = plt.figure()\n",
    "ax = fig.add_subplot(111, projection='3d')\n",
    "\n",
    "ax.plot(x, y)\n",
    "\n",
    "ax.plot(*set0, lw=4)\n",
    "ax.plot(*set1, lw=4)\n",
    "fill_between_3d(ax, *set0, *set1, mode = 1)\n",
    "\n",
    "\n",
    "ax.plot(*set2, lw=4)\n",
    "ax.plot(*set3, lw=4)\n",
    "fill_between_3d(ax, *set2, *set3, mode = 1)\n",
    "\n",
    "\n",
    "plt.xlabel('x')\n",
    "plt.ylabel('y')\n",
    "plt.grid(True)\n",
    "\n"
   ]
  },
  {
   "cell_type": "markdown",
   "metadata": {},
   "source": [
    "### c)\n",
    "\n"
   ]
  },
  {
   "cell_type": "code",
   "execution_count": null,
   "metadata": {},
   "outputs": [],
   "source": [
    "def calc_y(x):\n",
    "    return np.ones_like(x) \n",
    "\n"
   ]
  },
  {
   "cell_type": "code",
   "execution_count": null,
   "metadata": {},
   "outputs": [],
   "source": [
    "x = np.linspace(0, 1)\n",
    "y = calc_y(x)\n",
    "\n"
   ]
  },
  {
   "cell_type": "code",
   "execution_count": null,
   "metadata": {
    "scrolled": true
   },
   "outputs": [],
   "source": [
    "set0 = [x, np.zeros_like(y), y]\n",
    "set1 = [x, np.zeros_like(y), np.zeros_like(y)]\n",
    "\n",
    "set2 = [np.zeros_like(x), y, x]\n",
    "set3 = [np.zeros_like(x), y,np.zeros_like(x)]\n",
    "\n",
    "\n",
    "fig = plt.figure()\n",
    "ax = fig.add_subplot(111, projection='3d')\n",
    "\n",
    "ax.plot(x, y)\n",
    "\n",
    "ax.plot(*set0, lw=4)\n",
    "ax.plot(*set1, lw=4)\n",
    "fill_between_3d(ax, *set0, *set1, mode = 1)\n",
    "\n",
    "\n",
    "ax.plot(*set2, lw=4)\n",
    "ax.plot(*set3, lw=4)\n",
    "fill_between_3d(ax, *set2, *set3, mode = 1)\n",
    "\n",
    "\n",
    "plt.xlabel('x')\n",
    "plt.ylabel('y')\n",
    "plt.grid(True)\n",
    "\n"
   ]
  },
  {
   "cell_type": "code",
   "execution_count": null,
   "metadata": {},
   "outputs": [],
   "source": []
  }
 ],
 "metadata": {
  "colab": {
   "authorship_tag": "ABX9TyPykjTMIDv+hnIgzMYcLPG5",
   "include_colab_link": true,
   "private_outputs": true,
   "provenance": []
  },
  "kernelspec": {
   "display_name": "Python 3 (ipykernel)",
   "language": "python",
   "name": "python3"
  },
  "language_info": {
   "codemirror_mode": {
    "name": "ipython",
    "version": 3
   },
   "file_extension": ".py",
   "mimetype": "text/x-python",
   "name": "python",
   "nbconvert_exporter": "python",
   "pygments_lexer": "ipython3",
   "version": "3.10.0"
  }
 },
 "nbformat": 4,
 "nbformat_minor": 4
}