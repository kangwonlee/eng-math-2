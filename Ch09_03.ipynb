{
 "cells": [
  {
   "cell_type": "markdown",
   "metadata": {
    "id": "view-in-github",
    "colab_type": "text"
   },
   "source": [
    "<a href=\"https://colab.research.google.com/github/kangwonlee/eng-math-2/blob/main/Ch09_03.ipynb\" target=\"_parent\"><img src=\"https://colab.research.google.com/assets/colab-badge.svg\" alt=\"Open In Colab\"/></a>\n"
   ]
  },
  {
   "cell_type": "code",
   "execution_count": null,
   "metadata": {},
   "outputs": [],
   "source": [
    "import matplotlib.pyplot as plt\n",
    "import numpy as np\n",
    "import numpy.linalg as nl\n",
    "import sympy as sym\n",
    "\n"
   ]
  },
  {
   "cell_type": "markdown",
   "metadata": {},
   "source": [
    "## Curvilinear Motion\n",
    "* see also : Beer et. al., Vector Mechanics for Engineers, 8th Ed, McGrow Hill, 2007.\n",
    "\n"
   ]
  },
  {
   "cell_type": "markdown",
   "metadata": {},
   "source": [
    "### Velocity (vector)\n",
    "\n"
   ]
  },
  {
   "cell_type": "markdown",
   "metadata": {},
   "source": [
    "$$\n",
    "\\mathbb{v}=\\frac{d\\mathbb{r}}{dt}\n",
    "$$\n",
    "\n"
   ]
  },
  {
   "cell_type": "markdown",
   "metadata": {},
   "source": [
    "$$\n",
    "\\begin{pmatrix}\n",
    "v_x \\\\\n",
    "v_y \\\\\n",
    "v_z \\\\\n",
    "\\end{pmatrix}\n",
    "=\n",
    "\\frac{d}{dt}\n",
    "\\begin{pmatrix}\n",
    "r_x \\\\\n",
    "r_y \\\\\n",
    "r_z \\\\\n",
    "\\end{pmatrix}\n",
    "$$\n",
    "\n"
   ]
  },
  {
   "cell_type": "markdown",
   "metadata": {},
   "source": [
    "### Speed (scalar)\n",
    "\n"
   ]
  },
  {
   "cell_type": "markdown",
   "metadata": {},
   "source": [
    "$$\n",
    "v\n",
    "=\n",
    "\\left\\Vert\n",
    "  \\mathbb{v}\n",
    "\\right\\Vert\n",
    "=\n",
    "\\left\\Vert\n",
    "  \\frac{d\\mathbb{r}}{dt}\n",
    "\\right\\Vert\n",
    "$$\n",
    "\n"
   ]
  },
  {
   "cell_type": "markdown",
   "metadata": {},
   "source": [
    "$$\n",
    "\\begin{align}\n",
    "v\n",
    "&=\n",
    "\\sqrt{\n",
    "  {v_x}^2\n",
    "  +\n",
    "  {v_y}^2\n",
    "  +\n",
    "  {v_z}^2\n",
    "}\\\\\n",
    "&=\n",
    "\\sqrt{\n",
    "  \\left(\\frac{d{r_x}}{dt}\\right)^2\n",
    "  +\n",
    "  \\left(\\frac{d{r_y}}{dt}\\right)^2\n",
    "  +\n",
    "  \\left(\\frac{d{r_z}}{dt}\\right)^2\n",
    "}\n",
    "\\end{align}\n",
    "$$\n",
    "\n"
   ]
  },
  {
   "cell_type": "markdown",
   "metadata": {},
   "source": [
    "### Arc length (scalar), radius, and angle\n",
    "\n"
   ]
  },
  {
   "cell_type": "markdown",
   "metadata": {},
   "source": [
    "If the radius $\\rho$ is constant\n",
    "\n"
   ]
  },
  {
   "cell_type": "markdown",
   "metadata": {},
   "source": [
    "$$\n",
    "\\begin{align}\n",
    "s &= \\rho\\theta \\\\\n",
    "\\rho &= \\frac{s}{\\theta} \\\\\n",
    "\\end{align}\n",
    "$$\n"
   ]
  },
  {
   "cell_type": "markdown",
   "metadata": {},
   "source": [
    "If the radius $\\rho$ is not a constant\n",
    "\n"
   ]
  },
  {
   "cell_type": "markdown",
   "metadata": {},
   "source": [
    "$$\n",
    "\\begin{align}\n",
    "\\rho &= \\frac{ds}{d\\theta} \\\\\n",
    "\\end{align}\n",
    "$$\n"
   ]
  },
  {
   "cell_type": "markdown",
   "metadata": {},
   "source": [
    "### Arc length (scalar) & speed (scalar)\n",
    "\n"
   ]
  },
  {
   "cell_type": "markdown",
   "metadata": {},
   "source": [
    "$$\n",
    "\\begin{align}\n",
    "v &= \\frac{ds}{dt} \\\\\n",
    "ds &= v\\cdot dt \\\\\n",
    "s\n",
    "&=\n",
    "\\int_{0}^{t} v(\\tau) d\\tau\n",
    "\\end{align}\n",
    "$$\n",
    "\n"
   ]
  },
  {
   "cell_type": "markdown",
   "metadata": {},
   "source": [
    "### Acceleration (vector)\n",
    "\n"
   ]
  },
  {
   "cell_type": "markdown",
   "metadata": {},
   "source": [
    "$$\n",
    "\\mathbb{a}=\\frac{d}{dt}\\mathbb{v}\n",
    "$$\n",
    "\n"
   ]
  },
  {
   "cell_type": "markdown",
   "metadata": {},
   "source": [
    "### Acceleration (scalar)\n",
    "\n"
   ]
  },
  {
   "cell_type": "markdown",
   "metadata": {},
   "source": [
    "$$\n",
    "a=\\frac{dv}{dt}\n",
    "$$\n",
    "\n"
   ]
  },
  {
   "cell_type": "markdown",
   "metadata": {},
   "source": [
    "From the arc length :\n"
   ]
  },
  {
   "cell_type": "markdown",
   "metadata": {},
   "source": [
    "$$\n",
    "\\begin{align}\n",
    "v &= \\frac{ds}{dt} \\\\\n",
    "dt &= \\frac{ds}{v} \\\\\n",
    "\\end{align}\n",
    "$$\n",
    "\n"
   ]
  },
  {
   "cell_type": "markdown",
   "metadata": {},
   "source": [
    "Therefore\n"
   ]
  },
  {
   "cell_type": "markdown",
   "metadata": {},
   "source": [
    "$$\n",
    "\\begin{align}\n",
    "a &= \\frac{dv}{dt} \\\\\n",
    "  &= \\frac{dv}{\\frac{ds}{v}} \\\\\n",
    "  &= v\\frac{dv}{ds} \\\\\n",
    "\\end{align}\n",
    "$$\n",
    "\n"
   ]
  },
  {
   "cell_type": "markdown",
   "metadata": {},
   "source": [
    "### Unit tangential vector\n",
    "\n"
   ]
  },
  {
   "cell_type": "markdown",
   "metadata": {},
   "source": [
    "$$\n",
    "\\mathbb{T}=\\mathbb{e}_t=\\frac{\\mathbb{v}}{v}\n",
    "$$\n"
   ]
  },
  {
   "cell_type": "markdown",
   "metadata": {},
   "source": [
    "### Unit normal vector\n",
    "\n"
   ]
  },
  {
   "cell_type": "markdown",
   "metadata": {},
   "source": [
    "$$\n",
    "\\mathbb{N}=\\mathbb{e}_n=\\frac{d\\mathbb{e}_t}{d\\theta}=\\frac{d\\mathbb{T}}{d\\theta}\n",
    "$$\n"
   ]
  },
  {
   "cell_type": "markdown",
   "metadata": {},
   "source": [
    "### Acceleration vector in terms of $\\mathbb{T}=\\mathbb{e}_t$ and $\\mathbb{N}=\\mathbb{e}_n$\n",
    "\n"
   ]
  },
  {
   "cell_type": "markdown",
   "metadata": {},
   "source": [
    "$$\n",
    "\\begin{align}\n",
    "    \\mathbb{v}&=v\\mathbb{e}_t =v\\mathbb{T} \\\\\n",
    "    \\mathbb{a}&=\\frac{d\\mathbb{v}}{dt} \\\\\n",
    "              &=\\frac{d}{dt}\\left(v\\mathbb{e}_t\\right)\n",
    "                  =\\frac{d}{dt}\\left(v\\mathbb{T}\\right) \\\\\n",
    "              &=\\frac{dv}{dt}\\mathbb{e}_t + v \\frac{d{\\mathbb{e}_t}}{dt}\n",
    "                  =\\frac{dv}{dt}\\mathbb{T} + v \\frac{d{\\mathbb{T}}}{dt}\\\\\n",
    "\\end{align}\n",
    "$$\n",
    "\n"
   ]
  },
  {
   "cell_type": "markdown",
   "metadata": {},
   "source": [
    "Here\n"
   ]
  },
  {
   "cell_type": "markdown",
   "metadata": {},
   "source": [
    "$$\n",
    "\\begin{align}\n",
    "    v \\frac{d{\\mathbb{e}_t}}{dt}\n",
    "    =\n",
    "    v \\frac{d{\\mathbb{T}}}{dt}\n",
    "    &=\n",
    "    v\n",
    "        \\frac{d{\\mathbb{e}_t}}{dt}\n",
    "        \\frac{ds}{ds}\n",
    "        \\frac{d\\theta}{d\\theta}\n",
    "        =\n",
    "        v\n",
    "            \\frac{d{\\mathbb{T}}}{dt}\n",
    "            \\frac{ds}{ds}\n",
    "            \\frac{d\\theta}{d\\theta} \\\\\n",
    "    &=\n",
    "    v\n",
    "        \\frac{d{\\mathbb{e}_t}}{d\\theta}\n",
    "        \\frac{ds}{dt}\n",
    "        \\frac{d\\theta}{ds}\n",
    "        =\n",
    "        v\n",
    "            \\frac{d{\\mathbb{T}}}{d\\theta}\n",
    "            \\frac{ds}{dt}\n",
    "            \\frac{d\\theta}{ds} \\\\\n",
    "\\end{align}\n",
    "$$\n",
    "\n"
   ]
  },
  {
   "cell_type": "markdown",
   "metadata": {},
   "source": [
    "Again\n"
   ]
  },
  {
   "cell_type": "markdown",
   "metadata": {},
   "source": [
    "$$\n",
    "\\begin{align}\n",
    "    \\frac{d{\\mathbb{e}_t}}{d\\theta} = \\frac{d{\\mathbb{T}}}{d\\theta} &= \\mathbb{e}_n = \\mathbb{N} \\\\\n",
    "    \\frac{ds}{dt}                   &= v              \\\\\n",
    "    \\frac{d\\theta}{ds}              &= \\frac{1}{\\rho} \\\\\n",
    "\\end{align}\n",
    "$$\n",
    "\n"
   ]
  },
  {
   "cell_type": "markdown",
   "metadata": {},
   "source": [
    "Therefore\n"
   ]
  },
  {
   "cell_type": "markdown",
   "metadata": {},
   "source": [
    "$$\n",
    "\\begin{align}\n",
    "    v \\frac{d{\\mathbb{e}_t}}{dt}\n",
    "        = v \\frac{d{\\mathbb{T}}}{dt}\n",
    "    &=\n",
    "    v\n",
    "    \\mathbb{e}_n\n",
    "    v\n",
    "    \\frac{1}{\\rho}\n",
    "    =   v\n",
    "        \\mathbb{N}\n",
    "        v\n",
    "        \\frac{1}{\\rho} \\\\\n",
    "    &=\n",
    "    \\frac{v^2}{\\rho}\n",
    "    \\mathbb{e}_n\n",
    "    =\n",
    "    \\frac{v^2}{\\rho}\n",
    "    \\mathbb{N} \\\\\n",
    "\\end{align}\n",
    "$$\n",
    "\n"
   ]
  },
  {
   "cell_type": "markdown",
   "metadata": {},
   "source": [
    "Again Therefore\n"
   ]
  },
  {
   "cell_type": "markdown",
   "metadata": {},
   "source": [
    "$$\n",
    "\\begin{align}\n",
    "    \\mathbb{a} &= \\frac{dv}{dt}\\mathbb{e}_t + v \\frac{d{\\mathbb{e}_t}}{dt}\n",
    "                    = \\frac{dv}{dt}\\mathbb{T} + v \\frac{d{\\mathbb{T}}}{dt} \\\\\n",
    "               &=   \\frac{dv}{dt}\\mathbb{e}_t\n",
    "                    +\n",
    "                    \\frac{v^2}{\\rho}\n",
    "                        \\mathbb{e}_n\n",
    "                    =   \\frac{dv}{dt}\\mathbb{T}\n",
    "                    +\n",
    "                    \\frac{v^2}{\\rho}\n",
    "                        \\mathbb{N}\\\\\n",
    "\\end{align}\n",
    "$$\n",
    "\n"
   ]
  },
  {
   "cell_type": "markdown",
   "metadata": {},
   "source": [
    "Tangential acceleration\n"
   ]
  },
  {
   "cell_type": "markdown",
   "metadata": {},
   "source": [
    "$$\n",
    "a_t = \\frac{dv}{dt}\n",
    "$$\n"
   ]
  },
  {
   "cell_type": "markdown",
   "metadata": {},
   "source": [
    "Normal acceleration\n"
   ]
  },
  {
   "cell_type": "markdown",
   "metadata": {},
   "source": [
    "$$\n",
    "a_n = \\frac{v^2}{\\rho}\n",
    "$$\n"
   ]
  },
  {
   "cell_type": "markdown",
   "metadata": {},
   "source": [
    "## curvature\n"
   ]
  },
  {
   "cell_type": "markdown",
   "metadata": {},
   "source": [
    "$$\n",
    "\\begin{align}\n",
    "                  \\kappa &= \\frac{1}{\\rho} = \\left\\Vert \\frac{d\\mathbb{T}}{ds} \\right\\Vert \\\\\n",
    "  \\frac{d\\mathbb{T}}{ds} &= \\frac{d\\mathbb{T}}{ds}\\frac{dt}{dt} \\\\\n",
    "                         &= \\frac{d\\mathbb{T}}{dt}\\frac{dt}{ds} = \\frac{1}{v}\\frac{d\\mathbb{T}}{dt} \\\\\n",
    "                  \\kappa &= \\frac{1}{v} \\left\\Vert \\frac{d\\mathbb{T}}{dt} \\right\\Vert \\\\\n",
    "\\end{align}\n",
    "$$\n"
   ]
  },
  {
   "cell_type": "markdown",
   "metadata": {},
   "source": [
    "## Example 9.3.1 Curvature of a Circle\n",
    "\n"
   ]
  },
  {
   "cell_type": "code",
   "execution_count": null,
   "metadata": {},
   "outputs": [],
   "source": [
    "a, t = sym.symbols('a t', real=True, nonnegative=True)\n",
    "\n"
   ]
  },
  {
   "cell_type": "code",
   "execution_count": null,
   "metadata": {
    "outputId": "6a8500d4-e2e2-4943-d26a-aa13116b9c54"
   },
   "outputs": [],
   "source": [
    "r = sym.Matrix([[a * sym.cos(t)], [a * sym.sin(t)]])\n",
    "r\n",
    "\n"
   ]
  },
  {
   "cell_type": "code",
   "execution_count": null,
   "metadata": {
    "outputId": "d622ed5c-3e28-46e6-d2ee-3920fe2777b0"
   },
   "outputs": [],
   "source": [
    "drdt = sym.diff(r, t)\n",
    "drdt\n",
    "\n"
   ]
  },
  {
   "cell_type": "code",
   "execution_count": null,
   "metadata": {
    "outputId": "0905649d-70e2-42d9-8e12-536ea0b862aa"
   },
   "outputs": [],
   "source": [
    "drdt_norm = sym.sqrt(drdt[0]**2 + drdt[1] **2)\n",
    "drdt_norm\n"
   ]
  },
  {
   "cell_type": "code",
   "execution_count": null,
   "metadata": {
    "outputId": "dc170082-bd4d-4cab-a7ff-20b988710d90"
   },
   "outputs": [],
   "source": [
    "sym.simplify(drdt_norm)\n"
   ]
  },
  {
   "cell_type": "code",
   "execution_count": null,
   "metadata": {
    "outputId": "82d171d9-98ff-44d8-869f-163b189d0903"
   },
   "outputs": [],
   "source": [
    "unit_tangential = drdt / sym.simplify(drdt_norm)\n",
    "unit_tangential\n"
   ]
  },
  {
   "cell_type": "code",
   "execution_count": null,
   "metadata": {
    "outputId": "b1d0849a-7ded-4223-c341-71125a42bc72"
   },
   "outputs": [],
   "source": [
    "dT_dt = sym.diff(unit_tangential, t)\n",
    "dT_dt\n"
   ]
  },
  {
   "cell_type": "code",
   "execution_count": null,
   "metadata": {
    "outputId": "f550c122-576f-4c84-bb0a-77ac1cdb503a"
   },
   "outputs": [],
   "source": [
    "dT_dt_norm = sym.simplify(sym.sqrt(dT_dt[0]**2 + dT_dt[1]**2))\n",
    "dT_dt_norm\n"
   ]
  },
  {
   "cell_type": "code",
   "execution_count": null,
   "metadata": {
    "outputId": "18b39681-5dcd-4839-94ce-92b92b6dd3b0"
   },
   "outputs": [],
   "source": [
    "kappa = dT_dt_norm / sym.simplify(drdt_norm)\n",
    "kappa\n"
   ]
  },
  {
   "cell_type": "markdown",
   "metadata": {},
   "source": [
    "### Binormal\n",
    "\n",
    "$$\n",
    "\\begin{align}\n",
    "    \\mathbb{B}(t) &= \\mathbb{T}(t) \\times \\mathbb{N}(t) \\\\\n",
    "    \\mathbb{N}(t) &= \\mathbb{B}(t) \\times \\mathbb{T}(t) \\\\\n",
    "    \\mathbb{T}(t) &= \\mathbb{N}(t) \\times \\mathbb{B}(t) \\\\\n",
    "\\end{align}\n",
    "$$\n",
    "\n"
   ]
  },
  {
   "cell_type": "markdown",
   "metadata": {},
   "source": [
    "## Example 9.3.2 Tangent, Normal, and Binormal Vectors\n",
    "\n"
   ]
  },
  {
   "cell_type": "code",
   "execution_count": null,
   "metadata": {},
   "outputs": [],
   "source": [
    "def r(t):\n",
    "    x = 2 * np.cos(t)\n",
    "    y = 2 * np.sin(t)\n",
    "    z = 3 * t\n",
    "    return (x, y, z)\n",
    "\n"
   ]
  },
  {
   "cell_type": "code",
   "execution_count": null,
   "metadata": {},
   "outputs": [],
   "source": [
    "def drdt(t):\n",
    "    x = (-2) * np.sin(t)\n",
    "    y = 2 * np.cos(t)\n",
    "    z = 3\n",
    "    return (x, y, z)\n",
    "\n"
   ]
  },
  {
   "cell_type": "code",
   "execution_count": null,
   "metadata": {},
   "outputs": [],
   "source": [
    "def T(t):\n",
    "    factor = 1.0 / ((13) ** 0.5)\n",
    "    x = (-2 * factor) * np.sin(t)\n",
    "    y = (+2 * factor) * np.cos(t)\n",
    "    z = 3 * factor\n",
    "    return (x, y, z)\n",
    "\n"
   ]
  },
  {
   "cell_type": "code",
   "execution_count": null,
   "metadata": {},
   "outputs": [],
   "source": [
    "def T_numeric(t):\n",
    "    vec = drdt(t)\n",
    "    norm = nl.norm(vec)\n",
    "    return (vec / norm)\n",
    "\n"
   ]
  },
  {
   "cell_type": "code",
   "execution_count": null,
   "metadata": {},
   "outputs": [],
   "source": [
    "def dTdt(t):\n",
    "    factor = 1.0 / ((13) ** 0.5)\n",
    "    x = (-2 * factor) * np.cos(t)\n",
    "    y = (-2 * factor) * np.sin(t)\n",
    "    z = 0\n",
    "    return (x, y, z)\n",
    "\n"
   ]
  },
  {
   "cell_type": "code",
   "execution_count": null,
   "metadata": {},
   "outputs": [],
   "source": [
    "def N(t):\n",
    "    x = (-1) * np.cos(t)\n",
    "    y = (-1) * np.sin(t)\n",
    "    z = 0\n",
    "    return (x, y, z)\n",
    "\n"
   ]
  },
  {
   "cell_type": "code",
   "execution_count": null,
   "metadata": {},
   "outputs": [],
   "source": [
    "def B(t):\n",
    "    factor = 1.0 / ((13) ** 0.5)\n",
    "    x = (+3 * factor) * np.sin(t)\n",
    "    y = (-3 * factor) * np.cos(t)\n",
    "    z = 2 * factor\n",
    "    return (x, y, z)\n"
   ]
  },
  {
   "cell_type": "code",
   "execution_count": null,
   "metadata": {},
   "outputs": [],
   "source": [
    "t_end = 1.5\n",
    "t = np.linspace(0, t_end, 801)\n",
    "rx, ry, rz = r(t)\n"
   ]
  },
  {
   "cell_type": "code",
   "execution_count": null,
   "metadata": {},
   "outputs": [],
   "source": [
    "t_sample = np.linspace(0, t_end, 5)\n",
    "r_sample = r(t_sample)\n",
    "T_sample = T(t_sample)\n",
    "N_sample = N(t_sample)\n",
    "B_sample = B(t_sample)\n",
    "\n"
   ]
  },
  {
   "cell_type": "code",
   "execution_count": null,
   "metadata": {
    "outputId": "04d67c1e-bcb0-4327-f909-2b2f0cb225b0"
   },
   "outputs": [],
   "source": [
    "ax = plt.figure().add_subplot(projection='3d')\n",
    "\n",
    "ax.plot(rx, ry, rz)\n",
    "\n",
    "ax.quiver3D(*r_sample, *T_sample, color='C1', label='$\\mathbb{T}$')\n",
    "ax.quiver3D(*r_sample, *N_sample, color='C2', label='$\\mathbb{N}$')\n",
    "ax.quiver3D(*r_sample, *B_sample, color='C3', label='$\\mathbb{B}$')\n",
    "\n",
    "plt.xlabel('x')\n",
    "plt.ylabel('y')\n",
    "plt.legend(loc=0)\n",
    "plt.grid(True)\n",
    "\n"
   ]
  },
  {
   "cell_type": "markdown",
   "metadata": {},
   "source": [
    "## Example 9.3.4 Curvature of Twisted Cubic\n",
    "\n"
   ]
  },
  {
   "cell_type": "code",
   "execution_count": null,
   "metadata": {},
   "outputs": [],
   "source": [
    "def r(t):\n",
    "    return (t, t*t*0.5, t*t*t*(1.0/3.0))\n",
    "\n"
   ]
  },
  {
   "cell_type": "code",
   "execution_count": null,
   "metadata": {},
   "outputs": [],
   "source": [
    "def v(t):\n",
    "    return (1, t, t*t)\n",
    "\n"
   ]
  },
  {
   "cell_type": "code",
   "execution_count": null,
   "metadata": {},
   "outputs": [],
   "source": [
    "def T(t):\n",
    "    mag = (1 + t*t + t**4) ** 0.5\n",
    "    factor = 1.0 / mag\n",
    "    return (factor, t*factor, t*t*factor)\n",
    "\n"
   ]
  },
  {
   "cell_type": "code",
   "execution_count": null,
   "metadata": {},
   "outputs": [],
   "source": [
    "def a(t):\n",
    "    return (0, 1, 2*t)\n",
    "\n"
   ]
  },
  {
   "cell_type": "code",
   "execution_count": null,
   "metadata": {},
   "outputs": [],
   "source": [
    "def a_tangential(t):\n",
    "    a_t = a(t)\n",
    "    T_t = T(t)\n",
    "    return (\n",
    "          (a_t[0] * T_t[0])\n",
    "        + (a_t[1] * T_t[1])\n",
    "        + (a_t[2] * T_t[2])\n",
    "    )\n",
    "\n"
   ]
  },
  {
   "cell_type": "code",
   "execution_count": null,
   "metadata": {},
   "outputs": [],
   "source": [
    "t_end = 1.5\n",
    "t = np.linspace(0, t_end, 801)\n",
    "rx, ry, rz = r(t)\n",
    "\n"
   ]
  },
  {
   "cell_type": "code",
   "execution_count": null,
   "metadata": {},
   "outputs": [],
   "source": [
    "ax = plt.figure().add_subplot(projection='3d')\n",
    "\n",
    "ax.plot(rx, ry, rz)\n",
    "\n",
    "plt.xlabel('x')\n",
    "plt.ylabel('y')\n",
    "plt.grid(True)\n",
    "\n"
   ]
  },
  {
   "cell_type": "code",
   "execution_count": null,
   "metadata": {},
   "outputs": [],
   "source": [
    "def a_tangential(t):\n",
    "    a_t = a(t)\n",
    "    T_t = T(t)\n",
    "    return (\n",
    "          (a_t[0] * T_t[0])\n",
    "        + (a_t[1] * T_t[1])\n",
    "        + (a_t[2] * T_t[2])\n",
    "    )\n",
    "\n"
   ]
  },
  {
   "cell_type": "code",
   "execution_count": null,
   "metadata": {},
   "outputs": [],
   "source": [
    "plt.close()\n",
    "a_T = a_tangential(t)\n",
    "plt.plot(t, a_T, label='tangential a')\n",
    "plt.xlabel('t')\n",
    "plt.ylabel('tangential a')\n",
    "plt.grid(True)\n",
    "\n"
   ]
  },
  {
   "cell_type": "code",
   "execution_count": null,
   "metadata": {},
   "outputs": [],
   "source": []
  }
 ],
 "metadata": {
  "colab": {
   "provenance": [
    {
     "file_id": "https://github.com/kangwonlee/eng-math-2/blob/main/Ch09_03.ipynb",
     "timestamp": 1730186137514
    }
   ]
  },
  "kernelspec": {
   "display_name": "Python 3 (ipykernel)",
   "language": "python",
   "name": "python3"
  },
  "language_info": {
   "codemirror_mode": {
    "name": "ipython",
    "version": 3
   },
   "file_extension": ".py",
   "mimetype": "text/x-python",
   "name": "python",
   "nbconvert_exporter": "python",
   "pygments_lexer": "ipython3",
   "version": "3.10.9"
  }
 },
 "nbformat": 4,
 "nbformat_minor": 5
}
