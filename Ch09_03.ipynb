{
 "cells": [
  {
   "cell_type": "markdown",
   "metadata": {
    "id": "view-in-github",
    "colab_type": "text"
   },
   "source": [
    "<a href=\"https://colab.research.google.com/github/kangwonlee/eng-math-2/blob/main/Ch09_03.ipynb\" target=\"_parent\"><img src=\"https://colab.research.google.com/assets/colab-badge.svg\" alt=\"Open In Colab\"/></a>\n"
   ]
  },
  {
   "cell_type": "markdown",
   "metadata": {},
   "source": [
    "## Curvilinear Motion\n",
    "* see also : Beer et. al., Vector Mechanics for Engineers, 8th Ed, McGrow Hill, 2007.\n",
    "\n"
   ]
  },
  {
   "cell_type": "markdown",
   "metadata": {},
   "source": [
    "### Velocity (vector)\n",
    "\n"
   ]
  },
  {
   "cell_type": "markdown",
   "metadata": {},
   "source": [
    "$$\n",
    "\\mathbb{v}=\\frac{d\\mathbb{r}}{dt}\n",
    "$$\n",
    "\n"
   ]
  },
  {
   "cell_type": "markdown",
   "metadata": {},
   "source": [
    "$$\n",
    "\\begin{pmatrix}\n",
    "v_x \\\\\n",
    "v_y \\\\\n",
    "v_z \\\\\n",
    "\\end{pmatrix}\n",
    "=\n",
    "\\frac{d}{dt}\n",
    "\\begin{pmatrix}\n",
    "r_x \\\\\n",
    "r_y \\\\\n",
    "r_z \\\\\n",
    "\\end{pmatrix}\n",
    "$$\n",
    "\n"
   ]
  },
  {
   "cell_type": "markdown",
   "metadata": {},
   "source": [
    "### Speed (scalar)\n",
    "\n"
   ]
  },
  {
   "cell_type": "markdown",
   "metadata": {},
   "source": [
    "$$\n",
    "v\n",
    "=\n",
    "\\left\\Vert\n",
    "  \\mathbb{v}\n",
    "\\right\\Vert\n",
    "=\n",
    "\\left\\Vert\n",
    "  \\frac{d\\mathbb{r}}{dt}\n",
    "\\right\\Vert\n",
    "$$\n",
    "\n"
   ]
  },
  {
   "cell_type": "markdown",
   "metadata": {},
   "source": [
    "$$\n",
    "\\begin{align}\n",
    "v\n",
    "&=\n",
    "\\sqrt{\n",
    "  {v_x}^2\n",
    "  +\n",
    "  {v_y}^2\n",
    "  +\n",
    "  {v_z}^2\n",
    "}\\\\\n",
    "&=\n",
    "\\sqrt{\n",
    "  \\left(\\frac{d{r_x}}{dt}\\right)^2\n",
    "  +\n",
    "  \\left(\\frac{d{r_y}}{dt}\\right)^2\n",
    "  +\n",
    "  \\left(\\frac{d{r_z}}{dt}\\right)^2\n",
    "}\n",
    "\\end{align}\n",
    "$$\n",
    "\n"
   ]
  },
  {
   "cell_type": "markdown",
   "metadata": {},
   "source": [
    "### Arc length (scalar) & speed (scalar)\n",
    "\n"
   ]
  },
  {
   "cell_type": "markdown",
   "metadata": {},
   "source": [
    "$$\n",
    "\\begin{align}\n",
    "v &= \\frac{ds}{dt} \\\\\n",
    "ds &= v\\cdot dt \\\\\n",
    "s\n",
    "&=\n",
    "\\int_{0}^{t} v(\\tau) d\\tau\n",
    "\\end{align}\n",
    "$$\n",
    "\n"
   ]
  },
  {
   "cell_type": "markdown",
   "metadata": {},
   "source": [
    "### Acceleration (vector)\n",
    "\n"
   ]
  },
  {
   "cell_type": "markdown",
   "metadata": {},
   "source": [
    "$$\n",
    "\\mathbb{a}=\\frac{d}{dt}\\mathbb{v}\n",
    "$$\n",
    "\n"
   ]
  },
  {
   "cell_type": "markdown",
   "metadata": {},
   "source": [
    "### Acceleration (scalar)\n",
    "\n"
   ]
  },
  {
   "cell_type": "markdown",
   "metadata": {},
   "source": [
    "$$\n",
    "a=\\frac{dv}{dt}\n",
    "$$\n",
    "\n"
   ]
  },
  {
   "cell_type": "markdown",
   "metadata": {},
   "source": [
    "From the arc length :\n"
   ]
  },
  {
   "cell_type": "markdown",
   "metadata": {},
   "source": [
    "$$\n",
    "\\begin{align}\n",
    "v &= \\frac{ds}{dt} \\\\\n",
    "dt &= \\frac{ds}{v} \\\\\n",
    "\\end{align}\n",
    "$$\n",
    "\n"
   ]
  },
  {
   "cell_type": "markdown",
   "metadata": {},
   "source": [
    "Therefore\n"
   ]
  },
  {
   "cell_type": "markdown",
   "metadata": {},
   "source": [
    "$$\n",
    "\\begin{align}\n",
    "a &= \\frac{dv}{dt} \\\\\n",
    "  &= \\frac{dv}{\\frac{ds}{v}} \\\\\n",
    "  &= v\\frac{dv}{ds} \\\\\n",
    "\\end{align}\n",
    "$$\n",
    "\n"
   ]
  },
  {
   "cell_type": "markdown",
   "metadata": {},
   "source": [
    "Example 9.3.1 Curvature of a Circle\n",
    "\n"
   ]
  },
  {
   "cell_type": "code",
   "execution_count": null,
   "metadata": {},
   "outputs": [],
   "source": [
    "import sympy as sym\n",
    "\n"
   ]
  },
  {
   "cell_type": "code",
   "execution_count": null,
   "metadata": {},
   "outputs": [],
   "source": [
    "a, t = sym.symbols('a t')\n",
    "\n"
   ]
  },
  {
   "cell_type": "code",
   "execution_count": null,
   "metadata": {},
   "outputs": [],
   "source": [
    "r = sym.Matrix([[a * sym.cos(t)], [a * sym.sin(t)]])\n",
    "r\n",
    "\n"
   ]
  },
  {
   "cell_type": "code",
   "execution_count": null,
   "metadata": {},
   "outputs": [],
   "source": [
    "drdt = sym.diff(r, t)\n",
    "drdt\n",
    "\n"
   ]
  },
  {
   "cell_type": "markdown",
   "metadata": {},
   "source": [
    "Example 9.3.2 Tangent, Normal, and Binormal Vectors\n",
    "\n"
   ]
  },
  {
   "cell_type": "code",
   "execution_count": null,
   "metadata": {},
   "outputs": [],
   "source": [
    "def r(t):\n",
    "    x = 2 * np.cos(t)\n",
    "    y = 2 * np.sin(t)\n",
    "    z = 3 * t\n",
    "    return (x, y, z)\n",
    "\n"
   ]
  }
 ],
 "metadata": {
  "kernelspec": {
   "display_name": "Python 3 (ipykernel)",
   "language": "python",
   "name": "python3"
  },
  "language_info": {
   "codemirror_mode": {
    "name": "ipython",
    "version": 3
   },
   "file_extension": ".py",
   "mimetype": "text/x-python",
   "name": "python",
   "nbconvert_exporter": "python",
   "pygments_lexer": "ipython3",
   "version": "3.10.0"
  }
 },
 "nbformat": 4,
 "nbformat_minor": 5
}