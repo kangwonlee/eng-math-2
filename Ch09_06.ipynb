{
 "cells": [
  {
   "cell_type": "markdown",
   "metadata": {
    "id": "view-in-github",
    "colab_type": "text"
   },
   "source": [
    "<a href=\"https://colab.research.google.com/github/kangwonlee/eng-math-2/blob/main/Ch09_06.ipynb\" target=\"_parent\"><img src=\"https://colab.research.google.com/assets/colab-badge.svg\" alt=\"Open In Colab\"/></a>\n"
   ]
  },
  {
   "cell_type": "code",
   "execution_count": null,
   "metadata": {},
   "outputs": [],
   "source": [
    "import itertools\n",
    "\n",
    "import matplotlib.cm as cm\n",
    "import matplotlib.pyplot as plt\n",
    "import numpy as np\n",
    "import numpy.linalg as nl\n",
    "\n"
   ]
  },
  {
   "cell_type": "markdown",
   "source": [
    "## Example 9.6.1\n",
    "\n"
   ],
   "metadata": {}
  },
  {
   "cell_type": "code",
   "execution_count": null,
   "metadata": {},
   "outputs": [],
   "source": [
    "def f(x, y):\n",
    "    return (-1)*x**2 + y * y\n",
    "\n"
   ]
  },
  {
   "cell_type": "code",
   "execution_count": null,
   "metadata": {},
   "outputs": [],
   "source": [
    "r = np.linspace(0, 15)\n",
    "theta_rad = np.linspace(0, 2*np.pi, 361)\n",
    "\n",
    "R, THETA_RAD = np.meshgrid(r, theta_rad)\n",
    "\n",
    "\n",
    "X, Y = R * np.cos(THETA_RAD), R * np.sin(THETA_RAD)\n",
    "\n",
    "\n",
    "Z = f(X, Y)\n"
   ]
  },
  {
   "cell_type": "code",
   "execution_count": null,
   "metadata": {},
   "outputs": [],
   "source": [
    "ax = plt.figure(figsize=(9,9)).add_subplot(projection='3d')\n",
    "ax.view_init(elev=30, azim=45, roll=0)\n",
    "\n",
    "ax.plot_surface(X, Y, Z, alpha=0.5)\n",
    "\n",
    "ax.plot([2], [3], [f(2,3)],'.')\n",
    "\n",
    "ax.contour(X, Y, Z, 10)\n",
    "\n",
    "plt.xlabel('x')\n",
    "plt.ylabel('y')\n",
    "plt.grid(True)\n",
    "\n"
   ]
  },
  {
   "cell_type": "code",
   "execution_count": null,
   "metadata": {},
   "outputs": [],
   "source": [
    "def calc_del_f(x, y):\n",
    "    return (-2*x, 2*y)\n",
    "\n"
   ]
  },
  {
   "cell_type": "code",
   "source": [
    "r = np.linspace(0, 10)\n",
    "theta_rad = np.linspace(0, 2*np.pi, 361)\n",
    "\n",
    "R, THETA_RAD = np.meshgrid(r, theta_rad)\n",
    "\n",
    "\n",
    "X, Y = R * np.cos(THETA_RAD), R * np.sin(THETA_RAD)\n",
    "\n",
    "\n",
    "Z = f(X, Y)\n"
   ],
   "metadata": {},
   "execution_count": null,
   "outputs": []
  },
  {
   "cell_type": "code",
   "source": [
    "ax = plt.figure(figsize=(9,9)).add_subplot(projection='3d')\n",
    "ax.view_init(elev=45, azim=45, roll=0)\n",
    "\n",
    "ax.plot_surface(X, Y, Z, alpha=0.5)\n",
    "\n",
    "ax.plot([2, 2], [3, 3], [0, f(2,3)],'.-')\n",
    "ax.quiver3D(2, 3, f(2,3), *calc_del_f(2, 3), 0)\n",
    "\n",
    "ax.contour(X, Y, Z, 10)\n",
    "\n",
    "plt.xlabel('x')\n",
    "plt.ylabel('y')\n",
    "plt.grid(True)\n",
    "\n"
   ],
   "metadata": {},
   "execution_count": null,
   "outputs": []
  },
  {
   "cell_type": "code",
   "source": [],
   "metadata": {},
   "execution_count": null,
   "outputs": []
  },
  {
   "cell_type": "markdown",
   "source": [
    "## Example 9.6.3\n",
    "\n"
   ],
   "metadata": {}
  },
  {
   "cell_type": "code",
   "execution_count": null,
   "metadata": {},
   "outputs": [],
   "source": [
    "def f(x, y):\n",
    "    return (16 - (x*x +(-4)*y*y)) ** 0.5\n",
    "\n"
   ]
  },
  {
   "cell_type": "code",
   "execution_count": null,
   "metadata": {},
   "outputs": [],
   "source": [
    "r = np.linspace(0, 3)\n",
    "theta_rad = np.linspace(0, 2*np.pi, 361)\n",
    "\n",
    "R, THETA_RAD = np.meshgrid(r, theta_rad)\n",
    "\n",
    "\n",
    "X, Y = R * np.cos(THETA_RAD), R * np.sin(THETA_RAD)\n",
    "\n",
    "\n",
    "Z = f(X, Y)\n"
   ]
  },
  {
   "cell_type": "code",
   "execution_count": null,
   "metadata": {},
   "outputs": [],
   "source": [
    "ax = plt.figure(figsize=(9,9)).add_subplot(projection='3d')\n",
    "\n",
    "ax.plot_surface(X, Y, Z, alpha=0.5)\n",
    "\n",
    "x = 2\n",
    "y = 1\n",
    "z = f(x, y)\n",
    "ax.plot([x,x], [y,y], [z,0],'.-')\n",
    "\n",
    "ax.contour(X, Y, Z, 10)\n",
    "\n",
    "plt.xlabel('x')\n",
    "plt.ylabel('y')\n",
    "plt.grid(True)\n",
    "\n"
   ]
  },
  {
   "cell_type": "code",
   "source": [
    "def calc_del_f(x, y, z):\n",
    "    return (2*x, -8*y, 2*z)\n",
    "\n"
   ],
   "metadata": {},
   "execution_count": null,
   "outputs": []
  },
  {
   "cell_type": "code",
   "source": [
    "del_f = calc_del_f(2, 1, 4)\n",
    "del_f\n"
   ],
   "metadata": {},
   "execution_count": null,
   "outputs": []
  },
  {
   "cell_type": "code",
   "source": [
    "r = np.linspace(0, 3)\n",
    "theta_rad = np.linspace(0, 2*np.pi, 361)\n",
    "\n",
    "R, THETA_RAD = np.meshgrid(r, theta_rad)\n",
    "\n",
    "\n",
    "X, Y = R * np.cos(THETA_RAD), R * np.sin(THETA_RAD)\n",
    "\n",
    "\n",
    "Z = f(X, Y)\n"
   ],
   "metadata": {},
   "execution_count": null,
   "outputs": []
  },
  {
   "cell_type": "code",
   "source": [
    "plt.close()\n",
    "ax = plt.figure(figsize=(9,9)).add_subplot(projection='3d')\n",
    "ax.view_init(elev=30, azim=45, roll=0)\n",
    "\n",
    "ax.plot_surface(X, Y, Z, alpha=0.5)\n",
    "\n",
    "x = 2\n",
    "y = 1\n",
    "z = f(x, y)\n",
    "ax.plot([x,x], [y,y], [z,0],'.-')\n",
    "\n",
    "ax.quiver3D(x, y, z, *del_f)\n",
    "ax.plot([x,x+del_f[0]], [y,y+del_f[1]], [z,z+del_f[2]],'.-')\n",
    "\n",
    "ax.contour(X, Y, Z, 10)\n",
    "\n",
    "plt.xlabel('x')\n",
    "plt.ylabel('y')\n",
    "plt.grid(True)\n",
    "\n"
   ],
   "metadata": {},
   "execution_count": null,
   "outputs": []
  },
  {
   "cell_type": "markdown",
   "source": [
    "## Example 9.6.4\n",
    "\n"
   ],
   "metadata": {}
  },
  {
   "cell_type": "code",
   "execution_count": null,
   "metadata": {},
   "outputs": [],
   "source": [
    "def f(x, y):\n",
    "    return (0.5)*(x**2 + y * y) +4\n",
    "\n"
   ]
  },
  {
   "cell_type": "code",
   "execution_count": null,
   "metadata": {},
   "outputs": [],
   "source": [
    "r = np.linspace(0, 2)\n",
    "theta_rad = np.linspace(0, 2*np.pi, 361)\n",
    "\n",
    "R, THETA_RAD = np.meshgrid(r, theta_rad)\n",
    "\n",
    "\n",
    "X, Y = R * np.cos(THETA_RAD), R * np.sin(THETA_RAD)\n",
    "\n",
    "\n",
    "Z = f(X, Y)\n"
   ]
  },
  {
   "cell_type": "code",
   "execution_count": null,
   "metadata": {},
   "outputs": [],
   "source": [
    "ax = plt.figure(figsize=(9,9)).add_subplot(projection='3d')\n",
    "\n",
    "ax.plot_surface(X, Y, Z, alpha=0.5)\n",
    "\n",
    "x = 1\n",
    "y = -1\n",
    "z = f(x, y)\n",
    "ax.plot([x,x], [y,y], [z,0],'.-')\n",
    "\n",
    "ax.contour(X, Y, Z, 10)\n",
    "\n",
    "plt.xlabel('x')\n",
    "plt.ylabel('y')\n",
    "plt.grid(True)\n",
    "\n"
   ]
  },
  {
   "cell_type": "code",
   "source": [
    "def calc_del_f(x, y, z):\n",
    "    return (x, y, -1)\n",
    "\n"
   ],
   "metadata": {},
   "execution_count": null,
   "outputs": []
  },
  {
   "cell_type": "code",
   "source": [
    "del_f = calc_del_f(1, -1, 5)\n",
    "del_f\n"
   ],
   "metadata": {},
   "execution_count": null,
   "outputs": []
  },
  {
   "cell_type": "code",
   "source": [
    "r = np.linspace(0, 2)\n",
    "theta_rad = np.linspace(0, 2*np.pi, 361)\n",
    "\n",
    "R, THETA_RAD = np.meshgrid(r, theta_rad)\n",
    "\n",
    "\n",
    "X, Y = R * np.cos(THETA_RAD), R * np.sin(THETA_RAD)\n",
    "\n",
    "\n",
    "Z = f(X, Y)\n"
   ],
   "metadata": {},
   "execution_count": null,
   "outputs": []
  },
  {
   "cell_type": "code",
   "source": [
    "ax = plt.figure(figsize=(9,9)).add_subplot(projection='3d')\n",
    "\n",
    "ax.plot_surface(X, Y, Z, alpha=0.5)\n",
    "\n",
    "x = 1\n",
    "y = -1\n",
    "z = f(x, y)\n",
    "ax.plot([x,x], [y,y], [z,0],'.-')\n",
    "\n",
    "ax.quiver3D(x, y, z, *del_f)\n",
    "\n",
    "ax.contour(X, Y, Z, 10)\n",
    "\n",
    "plt.xlabel('x')\n",
    "plt.ylabel('y')\n",
    "plt.grid(True)\n",
    "\n"
   ],
   "metadata": {},
   "execution_count": null,
   "outputs": []
  },
  {
   "cell_type": "code",
   "source": [],
   "metadata": {},
   "execution_count": null,
   "outputs": []
  }
 ],
 "metadata": {
  "colab": {
   "provenance": [
    {
     "file_id": "1DPl32s0-7LwMy7IBktOefKtTKwWkLhgY",
     "timestamp": 1730791788347
    },
    {
     "file_id": "https://github.com/kangwonlee/eng-math-2/blob/main/Ch09_05.ipynb",
     "timestamp": 1730789819620
    },
    {
     "file_id": "https://github.com/kangwonlee/eng-math-2/blob/main/Ch09_04.ipynb",
     "timestamp": 1730189730769
    }
   ]
  },
  "kernelspec": {
   "display_name": "Python 3 (ipykernel)",
   "language": "python",
   "name": "python3"
  },
  "language_info": {
   "codemirror_mode": {
    "name": "ipython",
    "version": 3
   },
   "file_extension": ".py",
   "mimetype": "text/x-python",
   "name": "python",
   "nbconvert_exporter": "python",
   "pygments_lexer": "ipython3",
   "version": "3.10.9"
  }
 },
 "nbformat": 4,
 "nbformat_minor": 5
}