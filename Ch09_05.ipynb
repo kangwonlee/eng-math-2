{
 "cells": [
  {
   "cell_type": "markdown",
   "metadata": {
    "id": "view-in-github",
    "colab_type": "text"
   },
   "source": [
    "<a href=\"https://colab.research.google.com/github/kangwonlee/eng-math-2/blob/main/Ch09_05.ipynb\" target=\"_parent\"><img src=\"https://colab.research.google.com/assets/colab-badge.svg\" alt=\"Open In Colab\"/></a>\n"
   ]
  },
  {
   "cell_type": "code",
   "execution_count": null,
   "metadata": {},
   "outputs": [],
   "source": [
    "import matplotlib.cm as cm\n",
    "import matplotlib.pyplot as plt\n",
    "import numpy as np\n",
    "import numpy.linalg as nl\n",
    "\n"
   ]
  },
  {
   "cell_type": "markdown",
   "metadata": {},
   "source": [
    "## Example 9.5.6\n",
    "\n"
   ]
  },
  {
   "cell_type": "code",
   "execution_count": null,
   "metadata": {},
   "outputs": [],
   "source": [
    "def f(x, y, z):\n",
    "    return (\n",
    "        (x*(y*y))\n",
    "        + ((- 4)*(x**2) * y)\n",
    "        + (z*z)\n",
    "    )\n",
    "\n"
   ]
  },
  {
   "cell_type": "code",
   "execution_count": null,
   "metadata": {},
   "outputs": [],
   "source": [
    "def del_f(x, y, z):\n",
    "    return (\n",
    "        ((y*y)+(-8)*x*y),\n",
    "        (2*x*y+(-4)*(x*x)),\n",
    "        (2*z)\n",
    "    )\n",
    "\n"
   ]
  },
  {
   "cell_type": "code",
   "execution_count": null,
   "metadata": {},
   "outputs": [],
   "source": [
    "f(1, -1, 2)\n",
    "\n"
   ]
  },
  {
   "cell_type": "code",
   "execution_count": null,
   "metadata": {},
   "outputs": [],
   "source": [
    "del_f(1, -1, 2)\n",
    "\n"
   ]
  },
  {
   "cell_type": "code",
   "execution_count": null,
   "metadata": {},
   "outputs": [],
   "source": [
    "def plot_Duf(del_f_value):\n",
    "    azim_rad = np.linspace(-np.pi, np.pi)\n",
    "    elev_rad = np.linspace(-np.pi, np.pi)\n",
    "    Azim_rad, Elev_rad = np.meshgrid(azim_rad, elev_rad)\n",
    "    Ux = np.cos(Elev_rad) * np.cos(Azim_rad)\n",
    "    Uy = np.cos(Elev_rad) * np.sin(Azim_rad)\n",
    "    Uz = np.sin(Elev_rad)\n",
    "\n",
    "    Duf = del_f_value[0] * Ux + del_f_value[1] * Uy + del_f_value[2] * Uz\n",
    "\n",
    "    Azim_deg = np.rad2deg(Azim_rad)\n",
    "    Elev_deg = np.rad2deg(Elev_rad)\n",
    "\n",
    "    fig = plt.figure(figsize=(16,16))\n",
    "    ax = fig.add_subplot(projection='3d')\n",
    "    # fig, ax = plt.subplots(subplot_kw={\"projection\": \"3d\"})\n",
    "\n",
    "    surf = ax.plot_surface(Azim_deg, Elev_deg, Duf, cmap=cm.coolwarm, alpha=0.7)\n",
    "    ax.contour(Azim_deg, Elev_deg, Duf)\n",
    "    fig.colorbar(surf)\n",
    "\n",
    "    plt.xlabel('azimuth(deg)')\n",
    "    plt.ylabel('elevation(deg)')\n",
    "    plt.grid(True)\n",
    "\n"
   ]
  },
  {
   "cell_type": "code",
   "execution_count": null,
   "metadata": {},
   "outputs": [],
   "source": [
    "plot_Duf(del_f(1, -1, 2))\n",
    "\n"
   ]
  },
  {
   "cell_type": "code",
   "execution_count": null,
   "metadata": {},
   "outputs": [],
   "source": []
  }
 ],
 "metadata": {
  "colab": {
   "provenance": [
    {
     "file_id": "https://github.com/kangwonlee/eng-math-2/blob/main/Ch09_04.ipynb",
     "timestamp": 1730189730769
    }
   ]
  },
  "kernelspec": {
   "display_name": "Python 3 (ipykernel)",
   "language": "python",
   "name": "python3"
  },
  "language_info": {
   "codemirror_mode": {
    "name": "ipython",
    "version": 3
   },
   "file_extension": ".py",
   "mimetype": "text/x-python",
   "name": "python",
   "nbconvert_exporter": "python",
   "pygments_lexer": "ipython3",
   "version": "3.10.9"
  }
 },
 "nbformat": 4,
 "nbformat_minor": 5
}