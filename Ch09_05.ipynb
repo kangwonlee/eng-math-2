{
 "cells": [
  {
   "cell_type": "markdown",
   "metadata": {
    "id": "view-in-github",
    "colab_type": "text"
   },
   "source": [
    "<a href=\"https://colab.research.google.com/github/kangwonlee/eng-math-2/blob/main/Ch09_05.ipynb\" target=\"_parent\"><img src=\"https://colab.research.google.com/assets/colab-badge.svg\" alt=\"Open In Colab\"/></a>\n"
   ]
  },
  {
   "cell_type": "code",
   "execution_count": null,
   "metadata": {},
   "outputs": [],
   "source": [
    "import itertools\n",
    "\n",
    "import matplotlib.cm as cm\n",
    "import matplotlib.pyplot as plt\n",
    "import numpy as np\n",
    "import numpy.linalg as nl\n",
    "\n"
   ]
  },
  {
   "cell_type": "markdown",
   "metadata": {},
   "source": [
    "## Example 9.5.6\n",
    "\n"
   ]
  },
  {
   "cell_type": "code",
   "execution_count": null,
   "metadata": {},
   "outputs": [],
   "source": [
    "def f(x, y, z):\n",
    "    return (\n",
    "        (x*(y*y))\n",
    "        + ((- 4)*(x**2) * y)\n",
    "        + (z*z)\n",
    "    )\n",
    "\n"
   ]
  },
  {
   "cell_type": "code",
   "execution_count": null,
   "metadata": {},
   "outputs": [],
   "source": [
    "x = np.linspace(0, 2, 11)\n",
    "y = np.linspace(-2, 0, 11)\n",
    "z = np.linspace(1, 3, 11)\n",
    "X, Y, Z = np.meshgrid(x, y, z)\n",
    "C = f(X, Y, Z)\n",
    "\n"
   ]
  },
  {
   "cell_type": "code",
   "execution_count": null,
   "metadata": {},
   "outputs": [],
   "source": [
    "ax = plt.figure().add_subplot(projection='3d')\n",
    "\n",
    "s = ax.scatter3D(X, Y, Z, c=C)\n",
    "\n",
    "plt.xlabel('x')\n",
    "plt.ylabel('y')\n",
    "plt.colorbar(s)\n",
    "plt.grid(True)\n",
    "\n"
   ]
  },
  {
   "cell_type": "code",
   "execution_count": null,
   "metadata": {},
   "outputs": [],
   "source": [
    "def calc_del_f(x, y, z):\n",
    "    return (\n",
    "        ((y*y)+(-8)*x*y),\n",
    "        (2*x*y+(-4)*(x*x)),\n",
    "        (2*z)\n",
    "    )\n",
    "\n"
   ]
  },
  {
   "cell_type": "code",
   "execution_count": null,
   "metadata": {},
   "outputs": [],
   "source": [
    "f(1, -1, 2)\n",
    "\n"
   ]
  },
  {
   "cell_type": "code",
   "execution_count": null,
   "metadata": {},
   "outputs": [],
   "source": [
    "del_f = calc_del_f(1, -1, 2)\n",
    "del_f\n",
    "\n"
   ]
  },
  {
   "cell_type": "code",
   "execution_count": null,
   "metadata": {},
   "outputs": [],
   "source": [
    "plt.close()\n",
    "ax = plt.figure().add_subplot(projection='3d')\n",
    "ax.quiver3D(1, -1, 2, *del_f)\n",
    "ax.plot(\n",
    "    [1, 1+del_f[0]],\n",
    "    [-1, -1 + del_f[1]],\n",
    "    [2, 2 + del_f[2]],\n",
    ")\n",
    "plt.xlabel('x')\n",
    "plt.ylabel('y')\n",
    "plt.grid(True)\n",
    "\n"
   ]
  },
  {
   "cell_type": "code",
   "execution_count": null,
   "metadata": {},
   "outputs": [],
   "source": [
    "def draw_one_arrow(ax, x, y, z, vx, vy, vz, c):\n",
    "    return ax.quiver3D(x, y, z, vx, vy, vz, colors=c, arrow_length_ratio=0.1, alpha=0.5)\n",
    "\n"
   ]
  },
  {
   "cell_type": "code",
   "execution_count": null,
   "metadata": {},
   "outputs": [],
   "source": [
    "def plot_Duf_arrows(x, y, z, del_f_value, n=36+1):\n",
    "    azim_rad = np.linspace(-np.pi, np.pi, n)\n",
    "    elev_rad = np.linspace(-np.pi, np.pi, n)\n",
    "    Azim_rad, Elev_rad = np.meshgrid(azim_rad, elev_rad)\n",
    "    Ux = np.cos(Elev_rad) * np.cos(Azim_rad)\n",
    "    Uy = np.cos(Elev_rad) * np.sin(Azim_rad)\n",
    "    Uz = np.sin(Elev_rad)\n",
    "\n",
    "    Duf = del_f_value[0] * Ux + del_f_value[1] * Uy + del_f_value[2] * Uz\n",
    "\n",
    "    Azim_deg = np.rad2deg(Azim_rad)\n",
    "    Elev_deg = np.rad2deg(Elev_rad)\n",
    "\n",
    "    fig = plt.figure(figsize=(16,16))\n",
    "    ax = fig.add_subplot(projection='3d')\n",
    "\n",
    "    abs_Duf = np.abs(Duf)\n",
    "\n",
    "    Vx = Ux * abs_Duf\n",
    "    Vy = Uy * abs_Duf\n",
    "    Vz = Uz * abs_Duf\n",
    "\n",
    "    # Normalize Duf for colormap\n",
    "    normalized_Duf = (Duf - Duf.min()) / (Duf.max() - Duf.min())\n",
    "\n",
    "    # Flatten the arrays to get a color for each arrow\n",
    "    flat_Vx = Vx.flatten()\n",
    "    flat_Vy = Vy.flatten()\n",
    "    flat_Vz = Vz.flatten()\n",
    "    flat_colors = cm.viridis(normalized_Duf.flatten())\n",
    "\n",
    "    for vx, vy, vz, c in zip(flat_Vx, flat_Vy, flat_Vz, flat_colors):\n",
    "        draw_one_arrow(ax, x, y, z, vx, vy, vz, c)\n",
    "\n",
    "    ax.plot(\n",
    "        [x-del_f_value[0], x+del_f_value[0]],\n",
    "        [y-del_f_value[1], y+del_f_value[1]],\n",
    "        [z-del_f_value[2], z+del_f_value[2]],\n",
    "    )\n",
    "\n",
    "\n",
    "    plt.xlabel('x')\n",
    "    plt.ylabel('y')\n",
    "    plt.grid(True)\n",
    "\n"
   ]
  },
  {
   "cell_type": "code",
   "execution_count": null,
   "metadata": {},
   "outputs": [],
   "source": [
    "plot_Duf_arrows(1, -1, 2, del_f)\n",
    "\n"
   ]
  },
  {
   "cell_type": "code",
   "execution_count": null,
   "metadata": {},
   "outputs": [],
   "source": [
    "def plot_Duf(del_f_value):\n",
    "    azim_rad = np.linspace(-np.pi, np.pi)\n",
    "    elev_rad = np.linspace(-np.pi, np.pi)\n",
    "    Azim_rad, Elev_rad = np.meshgrid(azim_rad, elev_rad)\n",
    "    Ux = np.cos(Elev_rad) * np.cos(Azim_rad)\n",
    "    Uy = np.cos(Elev_rad) * np.sin(Azim_rad)\n",
    "    Uz = np.sin(Elev_rad)\n",
    "\n",
    "    Duf = del_f_value[0] * Ux + del_f_value[1] * Uy + del_f_value[2] * Uz\n",
    "\n",
    "    Azim_deg = np.rad2deg(Azim_rad)\n",
    "    Elev_deg = np.rad2deg(Elev_rad)\n",
    "\n",
    "    fig = plt.figure(figsize=(16,16))\n",
    "    ax = fig.add_subplot(projection='3d')\n",
    "    # fig, ax = plt.subplots(subplot_kw={\"projection\": \"3d\"})\n",
    "\n",
    "    surf = ax.plot_surface(Azim_deg, Elev_deg, Duf, cmap=cm.coolwarm, alpha=0.7)\n",
    "    ax.contour(Azim_deg, Elev_deg, Duf)\n",
    "    fig.colorbar(surf)\n",
    "\n",
    "    plt.xlabel('azimuth(deg)')\n",
    "    plt.ylabel('elevation(deg)')\n",
    "    plt.grid(True)\n",
    "\n"
   ]
  },
  {
   "cell_type": "code",
   "execution_count": null,
   "metadata": {},
   "outputs": [],
   "source": [
    "plot_Duf(calc_del_f(1, -1, 2))\n",
    "\n"
   ]
  },
  {
   "cell_type": "code",
   "execution_count": null,
   "metadata": {},
   "outputs": [],
   "source": []
  }
 ],
 "metadata": {
  "colab": {
   "provenance": [
    {
     "file_id": "https://github.com/kangwonlee/eng-math-2/blob/main/Ch09_04.ipynb",
     "timestamp": 1730189730769
    }
   ]
  },
  "kernelspec": {
   "display_name": "Python 3 (ipykernel)",
   "language": "python",
   "name": "python3"
  },
  "language_info": {
   "codemirror_mode": {
    "name": "ipython",
    "version": 3
   },
   "file_extension": ".py",
   "mimetype": "text/x-python",
   "name": "python",
   "nbconvert_exporter": "python",
   "pygments_lexer": "ipython3",
   "version": "3.10.9"
  }
 },
 "nbformat": 4,
 "nbformat_minor": 5
}