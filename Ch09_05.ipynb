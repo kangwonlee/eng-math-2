{
 "cells": [
  {
   "cell_type": "markdown",
   "metadata": {
    "id": "view-in-github",
    "colab_type": "text"
   },
   "source": [
    "<a href=\"https://colab.research.google.com/github/kangwonlee/eng-math-2/blob/fourier-series-class/Ch09_05.ipynb\" target=\"_parent\"><img src=\"https://colab.research.google.com/assets/colab-badge.svg\" alt=\"Open In Colab\"/></a>\n"
   ]
  },
  {
   "cell_type": "code",
   "execution_count": null,
   "metadata": {},
   "outputs": [],
   "source": [
    "import itertools\n",
    "\n",
    "import matplotlib.cm as cm\n",
    "import matplotlib.pyplot as plt\n",
    "import numpy as np\n",
    "import numpy.linalg as nl\n",
    "\n"
   ]
  },
  {
   "cell_type": "code",
   "execution_count": null,
   "metadata": {},
   "outputs": [],
   "source": []
  },
  {
   "cell_type": "markdown",
   "metadata": {},
   "source": [
    "## Example 9.5.1\n",
    "\n"
   ]
  },
  {
   "cell_type": "code",
   "execution_count": null,
   "metadata": {},
   "outputs": [],
   "source": [
    "def f(x, y):\n",
    "    return 5*y - (x**3) * (y*y)\n",
    "\n"
   ]
  },
  {
   "cell_type": "code",
   "execution_count": null,
   "metadata": {},
   "outputs": [],
   "source": [
    "r = np.linspace(0, 10)\n",
    "theta_rad = np.linspace(0, 2*np.pi, 361)\n",
    "\n",
    "R, THETA_RAD = np.meshgrid(r, theta_rad)\n",
    "\n",
    "\n",
    "X, Y = R * np.cos(THETA_RAD), R * np.sin(THETA_RAD)\n",
    "\n",
    "\n",
    "Z = f(X, Y)\n"
   ]
  },
  {
   "cell_type": "code",
   "execution_count": null,
   "metadata": {
    "outputId": "1905eecc-b423-432b-c5fc-6dbcb3e36b27"
   },
   "outputs": [],
   "source": [
    "ax = plt.figure(figsize=(9,9)).add_subplot(projection='3d')\n",
    "\n",
    "ax.plot_surface(X, Y, Z, alpha=0.5)\n",
    "\n",
    "ax.contour(X, Y, Z, 10)\n",
    "\n",
    "plt.xlabel('x')\n",
    "plt.ylabel('y')\n",
    "plt.grid(True)\n",
    "\n"
   ]
  },
  {
   "cell_type": "code",
   "execution_count": null,
   "metadata": {},
   "outputs": [],
   "source": [
    "def calc_del_f(x, y):\n",
    "    return (-3*x*x*y*y, 5 - 2 * y * x**3)\n",
    "\n"
   ]
  },
  {
   "cell_type": "code",
   "execution_count": null,
   "metadata": {},
   "outputs": [],
   "source": []
  },
  {
   "cell_type": "code",
   "execution_count": null,
   "metadata": {},
   "outputs": [],
   "source": [
    "r = np.linspace(0, 10, 10)\n",
    "theta_rad = np.linspace(0, 2*np.pi, 37)\n",
    "\n",
    "R, THETA_RAD = np.meshgrid(r, theta_rad)\n",
    "\n",
    "\n",
    "X, Y = R * np.cos(THETA_RAD), R * np.sin(THETA_RAD)\n",
    "\n",
    "\n",
    "Z = f(X, Y)\n"
   ]
  },
  {
   "cell_type": "code",
   "execution_count": null,
   "metadata": {
    "outputId": "6be6df07-6bfe-40b2-d009-a6361b5ffb50"
   },
   "outputs": [],
   "source": [
    "ax = plt.figure(figsize=(9,9)).add_subplot(projection='3d')\n",
    "\n",
    "ax.plot_surface(X, Y, Z, alpha=0.5)\n",
    "\n",
    "del_f = calc_del_f(X, Y)\n",
    "ax.quiver3D(X, Y, Z, *del_f, np.zeros_like(X), normalize=True)\n",
    "\n",
    "ax.contour(X, Y, Z, 10)\n",
    "\n",
    "plt.xlabel('x')\n",
    "plt.ylabel('y')\n",
    "plt.grid(True)\n",
    "\n"
   ]
  },
  {
   "cell_type": "code",
   "execution_count": null,
   "metadata": {},
   "outputs": [],
   "source": []
  },
  {
   "cell_type": "markdown",
   "metadata": {},
   "source": [
    "## Example 9.5.2\n",
    "\n"
   ]
  },
  {
   "cell_type": "code",
   "execution_count": null,
   "metadata": {},
   "outputs": [],
   "source": [
    "def f(x, y, z):\n",
    "    return x*y*y + 3 * (x*x) - (z**3)\n",
    "\n"
   ]
  },
  {
   "cell_type": "code",
   "execution_count": null,
   "metadata": {},
   "outputs": [],
   "source": [
    "x = np.linspace(-1, 1, 11)\n",
    "y = x\n",
    "z = x\n",
    "X, Y, Z = np.meshgrid(x, y, z)\n",
    "C = f(X, Y, Z)\n",
    "\n"
   ]
  },
  {
   "cell_type": "code",
   "execution_count": null,
   "metadata": {
    "outputId": "e6aaa129-4c10-476d-a835-9c2aa3fa8f43"
   },
   "outputs": [],
   "source": [
    "plt.close()\n",
    "ax = plt.figure().add_subplot(projection='3d')\n",
    "\n",
    "s = ax.scatter3D(X, Y, Z, c=C, alpha=0.5)\n",
    "\n",
    "plt.xlabel('x')\n",
    "plt.ylabel('y')\n",
    "plt.colorbar(s)\n",
    "plt.grid(True)\n",
    "\n"
   ]
  },
  {
   "cell_type": "code",
   "execution_count": null,
   "metadata": {},
   "outputs": [],
   "source": [
    "def calc_del_f(x, y, z):\n",
    "  return(\n",
    "      y*y + 6 * x,\n",
    "      2*x*y,\n",
    "      -3*z*z\n",
    "  )\n"
   ]
  },
  {
   "cell_type": "code",
   "execution_count": null,
   "metadata": {},
   "outputs": [],
   "source": [
    "x = np.linspace(-5, 5, 11)\n",
    "y = x\n",
    "z = x\n",
    "X, Y, Z = np.meshgrid(x, y, z)\n",
    "C = f(X, Y, Z)\n",
    "\n"
   ]
  },
  {
   "cell_type": "code",
   "execution_count": null,
   "metadata": {
    "outputId": "18287665-2af8-4349-f8ad-19a13708befe"
   },
   "outputs": [],
   "source": [
    "plt.close()\n",
    "ax = plt.figure().add_subplot(projection='3d')\n",
    "\n",
    "s = ax.scatter3D(X, Y, Z, c=C, alpha=0.5)\n",
    "\n",
    "del_f = calc_del_f(X, Y, Z)\n",
    "ax.quiver3D(\n",
    "    X, Y, Z,\n",
    "    * del_f,\n",
    "    normalize=True, alpha=0.3\n",
    ")\n",
    "\n",
    "plt.xlabel('x')\n",
    "plt.ylabel('y')\n",
    "plt.colorbar(s)\n",
    "plt.grid(True)\n",
    "\n"
   ]
  },
  {
   "cell_type": "markdown",
   "metadata": {},
   "source": [
    "## Example 9.5.3\n",
    "\n"
   ]
  },
  {
   "cell_type": "code",
   "execution_count": null,
   "metadata": {},
   "outputs": [],
   "source": [
    "def f(x, y):\n",
    "    return 2*x**2 * y ** 3 + 6* x * y\n",
    "\n"
   ]
  },
  {
   "cell_type": "code",
   "execution_count": null,
   "metadata": {},
   "outputs": [],
   "source": [
    "r = np.linspace(0, 12)\n",
    "theta_rad = np.linspace(0, 2*np.pi, 361)\n",
    "\n",
    "R, THETA_RAD = np.meshgrid(r, theta_rad)\n",
    "\n",
    "\n",
    "X, Y = R * np.cos(THETA_RAD), R * np.sin(THETA_RAD)\n",
    "\n",
    "\n",
    "Z = f(X, Y)\n"
   ]
  },
  {
   "cell_type": "code",
   "execution_count": null,
   "metadata": {
    "outputId": "ce4483b3-7da2-43fb-d4a0-91f652a078c1"
   },
   "outputs": [],
   "source": [
    "ax = plt.figure(figsize=(9,9)).add_subplot(projection='3d')\n",
    "\n",
    "ax.plot_surface(X, Y, Z, alpha=0.5)\n",
    "\n",
    "ax.plot([1], [1], [f(1,1)],'.')\n",
    "\n",
    "ax.contour(X, Y, Z, 10)\n",
    "\n",
    "plt.xlabel('x')\n",
    "plt.ylabel('y')\n",
    "plt.grid(True)\n",
    "\n"
   ]
  },
  {
   "cell_type": "markdown",
   "metadata": {},
   "source": [
    "## Example 9.5.4\n",
    "\n"
   ]
  },
  {
   "cell_type": "code",
   "execution_count": null,
   "metadata": {},
   "outputs": [],
   "source": [
    "def f(x, y):\n",
    "    return 4*x**2 + y * y\n",
    "\n"
   ]
  },
  {
   "cell_type": "code",
   "execution_count": null,
   "metadata": {},
   "outputs": [],
   "source": [
    "r = np.linspace(0, 5)\n",
    "theta_rad = np.linspace(0, 2*np.pi, 361)\n",
    "\n",
    "R, THETA_RAD = np.meshgrid(r, theta_rad)\n",
    "\n",
    "\n",
    "X, Y = R * np.cos(THETA_RAD), R * np.sin(THETA_RAD)\n",
    "\n",
    "\n",
    "Z = f(X, Y)\n"
   ]
  },
  {
   "cell_type": "code",
   "execution_count": null,
   "metadata": {
    "outputId": "41653d06-ae9e-4ddd-f332-7d869d9c789c"
   },
   "outputs": [],
   "source": [
    "ax = plt.figure(figsize=(9,9)).add_subplot(projection='3d')\n",
    "ax.view_init(elev=30, azim=265, roll=0)\n",
    "\n",
    "ax.plot_surface(X, Y, Z, alpha=0.5)\n",
    "\n",
    "ax.plot([2, 3], [1, 2], [f(2,1), f(3, 2)],'.')\n",
    "\n",
    "ax.contour(X, Y, Z, 10)\n",
    "\n",
    "plt.xlabel('x')\n",
    "plt.ylabel('y')\n",
    "plt.grid(True)\n",
    "\n"
   ]
  },
  {
   "cell_type": "markdown",
   "metadata": {},
   "source": [
    "## Example 9.5.5\n",
    "\n"
   ]
  },
  {
   "cell_type": "code",
   "execution_count": null,
   "metadata": {},
   "outputs": [],
   "source": [
    "def f(x, y, z):\n",
    "    return x * y * y + (-4) * x * x * y + z * z\n",
    "\n"
   ]
  },
  {
   "cell_type": "code",
   "execution_count": null,
   "metadata": {},
   "outputs": [],
   "source": [
    "x = np.linspace(0, 2, 11)\n",
    "y = np.linspace(-2, 0, 11)\n",
    "z = np.linspace(1, 3, 11)\n",
    "X, Y, Z = np.meshgrid(x, y, z)\n",
    "C = f(X, Y, Z)\n",
    "\n"
   ]
  },
  {
   "cell_type": "code",
   "execution_count": null,
   "metadata": {
    "outputId": "a6ebe064-be22-47b3-a8f1-d0301344bc1a"
   },
   "outputs": [],
   "source": [
    "plt.close()\n",
    "ax = plt.figure().add_subplot(projection='3d')\n",
    "\n",
    "s = ax.scatter3D(X, Y, Z, c=C, alpha=0.5)\n",
    "\n",
    "plt.xlabel('x')\n",
    "plt.ylabel('y')\n",
    "plt.colorbar(s)\n",
    "plt.grid(True)\n",
    "\n"
   ]
  },
  {
   "cell_type": "markdown",
   "metadata": {},
   "source": [
    "Level surface\n",
    "\n"
   ]
  },
  {
   "cell_type": "code",
   "execution_count": null,
   "metadata": {},
   "outputs": [],
   "source": [
    "def f(x, y, c):\n",
    "    return (c - x * y * y + 4 * x * x * y) ** 0.5\n",
    "\n"
   ]
  },
  {
   "cell_type": "code",
   "execution_count": null,
   "metadata": {},
   "outputs": [],
   "source": [
    "x = np.linspace(0, 2, 11)\n",
    "y = np.linspace(-2, 0, 11)\n",
    "\n",
    "X, Y = np.meshgrid(x, y)\n",
    "\n",
    "X_flat = X.flatten()\n",
    "Y_flat = Y.flatten()\n",
    "\n",
    "c = np.linspace(-50, 50, 11)\n",
    "\n",
    "Z = [\n",
    "    f(X, Y, ci) for ci in c\n",
    "]\n",
    "\n"
   ]
  },
  {
   "cell_type": "code",
   "execution_count": null,
   "metadata": {
    "outputId": "a6ebe064-be22-47b3-a8f1-d0301344bc1a"
   },
   "outputs": [],
   "source": [
    "plt.close()\n",
    "ax = plt.figure().add_subplot(projection='3d')\n",
    "\n",
    "s_list = [\n",
    "    ax.plot_surface(X, Y, Zi, alpha=0.5) for Zi in Z\n",
    "]\n",
    "\n",
    "plt.xlabel('x')\n",
    "plt.ylabel('y')\n",
    "plt.colorbar(s)\n",
    "plt.grid(True)\n",
    "\n"
   ]
  },
  {
   "cell_type": "markdown",
   "metadata": {},
   "source": [
    "## Example 9.5.6\n",
    "\n"
   ]
  },
  {
   "cell_type": "code",
   "execution_count": null,
   "metadata": {},
   "outputs": [],
   "source": [
    "def f(x, y, z):\n",
    "    return (\n",
    "        (x*(y*y))\n",
    "        + ((- 4)*(x**2) * y)\n",
    "        + (z*z)\n",
    "    )\n",
    "\n"
   ]
  },
  {
   "cell_type": "code",
   "execution_count": null,
   "metadata": {},
   "outputs": [],
   "source": [
    "x = np.linspace(0, 2, 11)\n",
    "y = np.linspace(-2, 0, 11)\n",
    "z = np.linspace(1, 3, 11)\n",
    "X, Y, Z = np.meshgrid(x, y, z)\n",
    "C = f(X, Y, Z)\n",
    "\n"
   ]
  },
  {
   "cell_type": "code",
   "execution_count": null,
   "metadata": {
    "outputId": "eaef9d17-98e9-4425-a5b7-bf1841dbf4c8"
   },
   "outputs": [],
   "source": [
    "ax = plt.figure().add_subplot(projection='3d')\n",
    "\n",
    "s = ax.scatter3D(X, Y, Z, c=C)\n",
    "\n",
    "plt.xlabel('x')\n",
    "plt.ylabel('y')\n",
    "plt.colorbar(s)\n",
    "plt.grid(True)\n",
    "\n"
   ]
  },
  {
   "cell_type": "code",
   "execution_count": null,
   "metadata": {},
   "outputs": [],
   "source": [
    "def calc_del_f(x, y, z):\n",
    "    return (\n",
    "        ((y*y)+(-8)*x*y),\n",
    "        (2*x*y+(-4)*(x*x)),\n",
    "        (2*z)\n",
    "    )\n",
    "\n"
   ]
  },
  {
   "cell_type": "code",
   "execution_count": null,
   "metadata": {
    "outputId": "28cccc1b-c85c-4fa5-b031-4957067e1659"
   },
   "outputs": [],
   "source": [
    "f(1, -1, 2)\n",
    "\n"
   ]
  },
  {
   "cell_type": "code",
   "execution_count": null,
   "metadata": {
    "outputId": "e62045e9-35c8-4fa2-e530-d4909856770f"
   },
   "outputs": [],
   "source": [
    "del_f = calc_del_f(1, -1, 2)\n",
    "del_f\n",
    "\n"
   ]
  },
  {
   "cell_type": "code",
   "execution_count": null,
   "metadata": {
    "outputId": "4af668ac-b4e1-4566-9f82-f30be364603f"
   },
   "outputs": [],
   "source": [
    "plt.close()\n",
    "ax = plt.figure().add_subplot(projection='3d')\n",
    "ax.quiver3D(1, -1, 2, *del_f)\n",
    "ax.plot(\n",
    "    [1, 1+del_f[0]],\n",
    "    [-1, -1 + del_f[1]],\n",
    "    [2, 2 + del_f[2]],\n",
    ")\n",
    "plt.xlabel('x')\n",
    "plt.ylabel('y')\n",
    "plt.grid(True)\n",
    "\n"
   ]
  },
  {
   "cell_type": "code",
   "execution_count": null,
   "metadata": {},
   "outputs": [],
   "source": [
    "def draw_one_arrow(ax, x, y, z, vx, vy, vz, c):\n",
    "    return ax.quiver3D(\n",
    "        x, y, z,\n",
    "        vx, vy, vz,\n",
    "        colors=c, arrow_length_ratio=0.1, alpha=0.5,\n",
    "        normalize=True\n",
    "    )\n",
    "\n"
   ]
  },
  {
   "cell_type": "code",
   "execution_count": null,
   "metadata": {},
   "outputs": [],
   "source": [
    "def plot_Duf_arrows(x, y, z, del_f_value, n=18+1):\n",
    "    azim_rad = np.linspace(-np.pi, np.pi, n)\n",
    "    elev_rad = np.linspace(-np.pi*0.5, np.pi*0.5, n//2)\n",
    "    Azim_rad, Elev_rad = np.meshgrid(azim_rad, elev_rad)\n",
    "    Ux = np.cos(Elev_rad) * np.cos(Azim_rad)\n",
    "    Uy = np.cos(Elev_rad) * np.sin(Azim_rad)\n",
    "    Uz = np.sin(Elev_rad)\n",
    "\n",
    "    Duf = del_f_value[0] * Ux + del_f_value[1] * Uy + del_f_value[2] * Uz\n",
    "\n",
    "    Azim_deg = np.rad2deg(Azim_rad)\n",
    "    Elev_deg = np.rad2deg(Elev_rad)\n",
    "\n",
    "    fig = plt.figure(figsize=(9,9))\n",
    "    ax = fig.add_subplot(projection='3d')\n",
    "\n",
    "    abs_Duf = np.abs(Duf)\n",
    "\n",
    "    Vx = Ux * abs_Duf\n",
    "    Vy = Uy * abs_Duf\n",
    "    Vz = Uz * abs_Duf\n",
    "\n",
    "    # Normalize Duf for colormap\n",
    "    normalized_Duf = (Duf - Duf.min()) / (Duf.max() - Duf.min())\n",
    "\n",
    "    # Flatten the arrays to get a color for each arrow\n",
    "    flat_Vx = Vx.flatten()\n",
    "    flat_Vy = Vy.flatten()\n",
    "    flat_Vz = Vz.flatten()\n",
    "    flat_colors = cm.viridis(normalized_Duf.flatten())\n",
    "\n",
    "    for vx, vy, vz, c in zip(flat_Vx, flat_Vy, flat_Vz, flat_colors):\n",
    "        draw_one_arrow(ax, x, y, z, vx, vy, vz, c)\n",
    "\n",
    "    factor = 0.25\n",
    "\n",
    "    ax.plot(\n",
    "        [x-del_f_value[0]*factor, x+del_f_value[0]*factor],\n",
    "        [y-del_f_value[1]*factor, y+del_f_value[1]*factor],\n",
    "        [z-del_f_value[2]*factor, z+del_f_value[2]*factor],\n",
    "        alpha=0,\n",
    "    )\n",
    "\n",
    "\n",
    "    plt.xlabel('x')\n",
    "    plt.ylabel('y')\n",
    "    plt.grid(True)\n",
    "\n"
   ]
  },
  {
   "cell_type": "code",
   "execution_count": null,
   "metadata": {
    "outputId": "56dbdba0-2ca5-49a1-893e-91ddf9664dd9"
   },
   "outputs": [],
   "source": [
    "plot_Duf_arrows(1, -1, 2, del_f)\n",
    "\n"
   ]
  },
  {
   "cell_type": "code",
   "execution_count": null,
   "metadata": {},
   "outputs": [],
   "source": [
    "def plot_Duf(del_f_value):\n",
    "    azim_rad = np.linspace(-np.pi, np.pi)\n",
    "    elev_rad = np.linspace(-np.pi*0.5, np.pi*0.5)\n",
    "    Azim_rad, Elev_rad = np.meshgrid(azim_rad, elev_rad)\n",
    "    Ux = np.cos(Elev_rad) * np.cos(Azim_rad)\n",
    "    Uy = np.cos(Elev_rad) * np.sin(Azim_rad)\n",
    "    Uz = np.sin(Elev_rad)\n",
    "\n",
    "    Duf = del_f_value[0] * Ux + del_f_value[1] * Uy + del_f_value[2] * Uz\n",
    "\n",
    "    Azim_deg = np.rad2deg(Azim_rad)\n",
    "    Elev_deg = np.rad2deg(Elev_rad)\n",
    "\n",
    "    fig = plt.figure(figsize=(9,9))\n",
    "    ax = fig.add_subplot(projection='3d')\n",
    "    # fig, ax = plt.subplots(subplot_kw={\"projection\": \"3d\"})\n",
    "\n",
    "    surf = ax.plot_surface(Azim_deg, Elev_deg, Duf, cmap=cm.viridis , alpha=0.7)\n",
    "    ax.contour(Azim_deg, Elev_deg, Duf)\n",
    "    fig.colorbar(surf)\n",
    "\n",
    "    plt.xlabel('azimuth(deg)')\n",
    "    plt.ylabel('elevation(deg)')\n",
    "    plt.grid(True)\n",
    "\n"
   ]
  },
  {
   "cell_type": "code",
   "execution_count": null,
   "metadata": {
    "outputId": "455cdc26-a3d5-4d87-9380-d4efeefa45bd"
   },
   "outputs": [],
   "source": [
    "plot_Duf(calc_del_f(1, -1, 2))\n",
    "\n"
   ]
  },
  {
   "cell_type": "markdown",
   "metadata": {},
   "source": [
    "## Example 9.5.7\n",
    "\n"
   ]
  },
  {
   "cell_type": "code",
   "execution_count": null,
   "metadata": {},
   "outputs": [],
   "source": [
    "def f(x, y):\n",
    "    return 4.0 + ((-2.0)/3.0)*((x*x + y*y) ** 0.5)\n",
    "\n"
   ]
  },
  {
   "cell_type": "code",
   "execution_count": null,
   "metadata": {},
   "outputs": [],
   "source": [
    "def calc_del_f(x, y):\n",
    "    factor = (-2.0)/(3.0*((x**2 + y**2)**0.5))\n",
    "    return (factor * x, factor * y)\n",
    "\n"
   ]
  },
  {
   "cell_type": "code",
   "execution_count": null,
   "metadata": {},
   "outputs": [],
   "source": [
    "r = np.linspace(0.001, 6, 6)\n",
    "theta_rad = np.linspace(0, 2*np.pi, 36+1)\n",
    "\n",
    "R, THETA_RAD = np.meshgrid(r, theta_rad)\n",
    "\n",
    "\n",
    "X, Y = R * np.cos(THETA_RAD), R * np.sin(THETA_RAD)\n",
    "\n",
    "\n",
    "Z = f(X, Y)\n"
   ]
  },
  {
   "cell_type": "code",
   "execution_count": null,
   "metadata": {
    "outputId": "ce4483b3-7da2-43fb-d4a0-91f652a078c1"
   },
   "outputs": [],
   "source": [
    "ax = plt.figure(figsize=(9,9)).add_subplot(projection='3d')\n",
    "\n",
    "ax.plot_surface(X, Y, Z, alpha=0.5)\n",
    "\n",
    "ax.quiver3D(X[1:, 1:], Y[1:, 1:], Z[1:, 1:], *calc_del_f(X[1:, 1:], Y[1:, 1:]), 0, alpha=0.5)\n",
    "\n",
    "ax.contour(X, Y, Z, 10)\n",
    "\n",
    "plt.xlabel('x')\n",
    "plt.ylabel('y')\n",
    "plt.grid(True)\n",
    "\n"
   ]
  },
  {
   "cell_type": "markdown",
   "metadata": {},
   "source": [
    "## Example 9.5.8\n",
    "\n"
   ]
  },
  {
   "cell_type": "code",
   "execution_count": null,
   "metadata": {},
   "outputs": [],
   "source": [
    "def f(x, y, z):\n",
    "    return x * y * z * (1 - x) * (2 - y) * (3 - z)\n",
    "\n"
   ]
  },
  {
   "cell_type": "code",
   "execution_count": null,
   "metadata": {},
   "outputs": [],
   "source": [
    "import sympy as sym\n",
    "import sympy.vector as sv\n",
    "\n",
    "x, y, z = sym.symbols('x y z', real=True)\n",
    "T = f(x, y, z)\n",
    "T\n"
   ]
  },
  {
   "cell_type": "code",
   "execution_count": null,
   "metadata": {},
   "outputs": [],
   "source": [
    "del_T = sym.simplify(\n",
    "    sym.Matrix([\n",
    "        [sym.Derivative(T, x)],\n",
    "        [sym.Derivative(T, y)],\n",
    "        [sym.Derivative(T, z)],\n",
    "    ])\n",
    ")\n",
    "del_T\n",
    "\n"
   ]
  },
  {
   "cell_type": "code",
   "execution_count": null,
   "metadata": {},
   "outputs": [],
   "source": [
    "del_T.subs({x:0.5, y:1, z:1})\n",
    "\n"
   ]
  },
  {
   "cell_type": "code",
   "execution_count": null,
   "metadata": {},
   "outputs": [],
   "source": [
    "del_T_x = sym.lambdify((x, y, z), del_T[0, 0])\n",
    "del_T_y = sym.lambdify((x, y, z), del_T[1, 0])\n",
    "del_T_z = sym.lambdify((x, y, z), del_T[2, 0])\n"
   ]
  },
  {
   "cell_type": "code",
   "execution_count": null,
   "metadata": {},
   "outputs": [],
   "source": [
    "print(sym.latex(del_T).replace(r'\\\\',r'\\\\'+'\\n'))\n",
    "\n"
   ]
  },
  {
   "cell_type": "code",
   "execution_count": null,
   "metadata": {},
   "outputs": [],
   "source": [
    "n = 5\n",
    "x = np.linspace(0, 1, n+1)\n",
    "y = np.linspace(0, 2, n+1)\n",
    "z = np.linspace(0, 3, n+1)\n",
    "X, Y, Z = np.meshgrid(x, y, z)\n",
    "C = f(X, Y, Z)\n",
    "\n"
   ]
  },
  {
   "cell_type": "code",
   "execution_count": null,
   "metadata": {
    "outputId": "a6ebe064-be22-47b3-a8f1-d0301344bc1a"
   },
   "outputs": [],
   "source": [
    "plt.close()\n",
    "ax = plt.figure(figsize=(9, 9)).add_subplot(projection='3d')\n",
    "\n",
    "s = ax.scatter3D(X, Y, Z, c=C, alpha=0.5)\n",
    "ax.quiver3D(\n",
    "    X, Y, Z,\n",
    "    del_T_x(X, Y, Z), del_T_y(X, Y, Z), del_T_z(X, Y, Z),\n",
    "    alpha=0.5, normalize=True,\n",
    ")\n",
    "\n",
    "x = 0.5\n",
    "y = 1\n",
    "z = 1\n",
    "\n",
    "ax.quiver3D(\n",
    "    x, y, z,\n",
    "    del_T_x(x, y, z), del_T_y(x, y, z), del_T_z(x, y, z),\n",
    "    color='red', normalize=True,\n",
    ")\n",
    "\n",
    "plt.xlabel('x')\n",
    "plt.ylabel('y')\n",
    "plt.colorbar(s)\n",
    "plt.grid(True)\n",
    "\n"
   ]
  },
  {
   "cell_type": "code",
   "execution_count": null,
   "metadata": {},
   "outputs": [],
   "source": []
  }
 ],
 "metadata": {
  "colab": {
   "provenance": [
    {
     "file_id": "https://github.com/kangwonlee/eng-math-2/blob/main/Ch09_05.ipynb",
     "timestamp": 1730789819620
    },
    {
     "file_id": "https://github.com/kangwonlee/eng-math-2/blob/main/Ch09_04.ipynb",
     "timestamp": 1730189730769
    }
   ]
  },
  "kernelspec": {
   "display_name": "Python 3 (ipykernel)",
   "language": "python",
   "name": "python3"
  },
  "language_info": {
   "codemirror_mode": {
    "name": "ipython",
    "version": 3
   },
   "file_extension": ".py",
   "mimetype": "text/x-python",
   "name": "python",
   "nbconvert_exporter": "python",
   "pygments_lexer": "ipython3",
   "version": "3.10.0"
  }
 },
 "nbformat": 4,
 "nbformat_minor": 5
}