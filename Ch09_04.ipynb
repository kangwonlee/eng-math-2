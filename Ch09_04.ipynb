{
 "cells": [
  {
   "cell_type": "markdown",
   "metadata": {
    "id": "view-in-github",
    "colab_type": "text"
   },
   "source": [
    "<a href=\"https://colab.research.google.com/github/kangwonlee/eng-math-2/blob/main/Ch09_04.ipynb\" target=\"_parent\"><img src=\"https://colab.research.google.com/assets/colab-badge.svg\" alt=\"Open In Colab\"/></a>\n"
   ]
  },
  {
   "cell_type": "code",
   "execution_count": null,
   "metadata": {},
   "outputs": [],
   "source": [
    "import matplotlib.pyplot as plt\n",
    "import numpy as np\n",
    "\n"
   ]
  },
  {
   "cell_type": "markdown",
   "metadata": {},
   "source": [
    "## Example 9.4.1\n",
    "\n"
   ]
  },
  {
   "cell_type": "code",
   "execution_count": null,
   "metadata": {},
   "outputs": [],
   "source": [
    "def f(x, y):\n",
    "    return y ** 2 - x ** 2\n",
    "\n"
   ]
  },
  {
   "cell_type": "code",
   "execution_count": null,
   "metadata": {},
   "outputs": [],
   "source": [
    "r = np.linspace(-10, 10)\n",
    "theta_rad = np.linspace(0, 2*np.pi, 361)\n",
    "\n",
    "R, THETA_RAD = np.meshgrid(r, theta_rad)\n",
    "\n",
    "\n",
    "X, Y = R * np.cos(THETA_RAD), R * np.sin(THETA_RAD)\n",
    "\n",
    "\n",
    "Z = f(X, Y)\n"
   ]
  },
  {
   "cell_type": "code",
   "execution_count": null,
   "metadata": {},
   "outputs": [],
   "source": [
    "ax = plt.figure(figsize=(16,16)).add_subplot(projection='3d')\n",
    "\n",
    "ax.plot_surface(X, Y, Z, alpha=0.5)\n",
    "\n",
    "ax.contour(X, Y, Z, 10)\n",
    "\n",
    "plt.xlabel('x')\n",
    "plt.ylabel('y')\n",
    "plt.grid(True)\n",
    "\n"
   ]
  },
  {
   "cell_type": "markdown",
   "metadata": {},
   "source": [
    "## Example 9.4.2\n",
    "\n"
   ]
  },
  {
   "cell_type": "code",
   "execution_count": null,
   "metadata": {},
   "outputs": [],
   "source": [
    "def f(x, y, c):\n",
    "    factor = 1.0 / c\n",
    "    return (y ** 2 + x ** 2) * factor\n",
    "\n"
   ]
  },
  {
   "cell_type": "code",
   "execution_count": null,
   "metadata": {},
   "outputs": [],
   "source": [
    "x = np.linspace(-10, 10)\n",
    "y = x\n",
    "X, Y = np.meshgrid(x, y)\n",
    "Zp1 = f(X, Y, c=1)\n",
    "Zp2 = f(X, Y, c=2)\n",
    "Zm1 = f(X, Y, c=-1)\n",
    "Zm2 = f(X, Y, c=-2)\n",
    "\n"
   ]
  },
  {
   "cell_type": "code",
   "execution_count": null,
   "metadata": {},
   "outputs": [],
   "source": [
    "plt.close()\n",
    "ax = plt.figure().add_subplot(projection='3d')\n",
    "\n",
    "ax.plot_surface(X, Y, Zp1, alpha=0.3)\n",
    "ax.plot_surface(X, Y, Zp2, alpha=0.3)\n",
    "ax.plot_surface(X, Y, Zm1, alpha=0.3)\n",
    "ax.plot_surface(X, Y, Zm2, alpha=0.3)\n",
    "\n",
    "plt.xlabel('x')\n",
    "plt.ylabel('y')\n",
    "plt.grid(True)\n",
    "\n"
   ]
  },
  {
   "cell_type": "markdown",
   "metadata": {},
   "source": [
    "## Example 9.4.3\n",
    "\n"
   ]
  },
  {
   "cell_type": "code",
   "execution_count": null,
   "metadata": {},
   "outputs": [],
   "source": [
    "def f(x, y):\n",
    "    return 4 * (x ** 3) * (y ** 2) + (- 4) * (x**2) + (y ** 6) + 1\n",
    "\n"
   ]
  },
  {
   "cell_type": "code",
   "execution_count": null,
   "metadata": {},
   "outputs": [],
   "source": [
    "x = np.linspace(-10, 10)\n",
    "y = x\n",
    "X, Y = np.meshgrid(x, y)\n",
    "Z = f(X, Y)\n"
   ]
  },
  {
   "cell_type": "code",
   "execution_count": null,
   "metadata": {},
   "outputs": [],
   "source": [
    "ax = plt.figure().add_subplot(projection='3d')\n",
    "\n",
    "ax.plot_surface(X, Y, Z, alpha=0.5)\n",
    "\n",
    "ax.contour(X, Y, Z, 10)\n",
    "\n",
    "plt.xlabel('x')\n",
    "plt.ylabel('y')\n",
    "plt.grid(True)\n",
    "\n"
   ]
  },
  {
   "cell_type": "markdown",
   "metadata": {},
   "source": [
    "## Example 9.4.4\n",
    "\n"
   ]
  },
  {
   "cell_type": "code",
   "execution_count": null,
   "metadata": {},
   "outputs": [],
   "source": [
    "def f(x, y, t):\n",
    "    return np.exp(-3*np.pi*t) * np.cos(4*x) * np.sin(6*y)\n",
    "\n"
   ]
  },
  {
   "cell_type": "code",
   "execution_count": null,
   "metadata": {},
   "outputs": [],
   "source": [
    "x = np.linspace(-3, 3)\n",
    "y = x\n",
    "X, Y = np.meshgrid(x, y)\n",
    "Zp1 = f(X, Y, 1)\n",
    "Zp2 = f(X, Y, 2)\n",
    "Zm1 = f(X, Y, -1)\n",
    "Zm2 = f(X, Y, -2)\n",
    "\n"
   ]
  },
  {
   "cell_type": "code",
   "execution_count": null,
   "metadata": {},
   "outputs": [],
   "source": [
    "plt.close()\n",
    "ax = plt.figure().add_subplot(projection='3d')\n",
    "\n",
    "ax.plot_surface(X, Y, Zp1, alpha=0.3)\n",
    "ax.plot_surface(X, Y, Zp2, alpha=0.3)\n",
    "ax.plot_surface(X, Y, Zm1, alpha=0.3)\n",
    "ax.plot_surface(X, Y, Zm2, alpha=0.3)\n",
    "\n",
    "plt.xlabel('x')\n",
    "plt.ylabel('y')\n",
    "plt.grid(True)\n",
    "\n"
   ]
  },
  {
   "cell_type": "code",
   "source": [],
   "metadata": {},
   "execution_count": null,
   "outputs": []
  }
 ],
 "metadata": {
  "kernelspec": {
   "display_name": "Python 3 (ipykernel)",
   "language": "python",
   "name": "python3"
  },
  "language_info": {
   "codemirror_mode": {
    "name": "ipython",
    "version": 3
   },
   "file_extension": ".py",
   "mimetype": "text/x-python",
   "name": "python",
   "nbconvert_exporter": "python",
   "pygments_lexer": "ipython3",
   "version": "3.10.9"
  },
  "colab": {
   "provenance": [
    {
     "file_id": "https://github.com/kangwonlee/eng-math-2/blob/main/Ch09_04.ipynb",
     "timestamp": 1730189730769
    }
   ]
  }
 },
 "nbformat": 4,
 "nbformat_minor": 5
}