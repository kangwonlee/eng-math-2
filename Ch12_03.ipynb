{
 "cells": [
  {
   "cell_type": "markdown",
   "metadata": {
    "id": "view-in-github",
    "colab_type": "text"
   },
   "source": [
    "<a href=\"https://colab.research.google.com/github/kangwonlee/eng-math-2/blob/main/Ch12_03.ipynb\" target=\"_parent\"><img src=\"https://colab.research.google.com/assets/colab-badge.svg\" alt=\"Open In Colab\"/></a>\n"
   ]
  },
  {
   "cell_type": "code",
   "execution_count": null,
   "metadata": {},
   "outputs": [],
   "source": [
    "import matplotlib.pyplot as plt\n",
    "import numpy as np\n",
    "import sympy as sym\n",
    "\n"
   ]
  },
  {
   "cell_type": "markdown",
   "metadata": {},
   "source": [
    "### Example 12.3.1\n",
    "\n"
   ]
  },
  {
   "cell_type": "code",
   "execution_count": null,
   "metadata": {},
   "outputs": [],
   "source": [
    "mx = 5\n",
    "\n",
    "fig = plt.figure(figsize=(6, mx*2))\n",
    "\n",
    "for n in range(1, mx):\n",
    "    plt.subplot(mx, 1, n)\n",
    "\n",
    "    x = np.linspace(0, 2+1e-7, 361)\n",
    "    y = np.cos((n * np.pi * 0.5) * x)\n",
    "    plt.fill_between(x, y, label=fr'$\\cos \\frac{{{n}}}{{2}}\\pi x$')\n",
    "\n",
    "    plt.xlabel('$x$')\n",
    "    plt.legend(loc=0)\n",
    "    plt.xlim(0, 2)\n",
    "    plt.grid(True)\n",
    "\n",
    "plt.tight_layout()\n",
    "\n"
   ]
  },
  {
   "cell_type": "code",
   "execution_count": null,
   "metadata": {},
   "outputs": [],
   "source": [
    "def calc_f(x_rad):\n",
    "    result = np.zeros_like(x_rad)\n",
    "    x_phase = x_rad % (4)\n",
    "    result[x_phase<2] = x_phase[x_phase<2]\n",
    "    result[x_phase>=2] = x_phase[x_phase>=2] - 4\n",
    "    return result\n",
    "\n",
    "\n",
    "def calc_an(n):\n",
    "    return 0.0\n",
    "\n",
    "\n",
    "def calc_bn(n):\n",
    "    return 4.0 * (-1)**(n+1) /(n * np.pi)\n",
    "\n",
    "\n",
    "def calc_mode_n(x, p_inv, n):\n",
    "    bn = calc_bn(n)\n",
    "    n_pi_pinv = n*np.pi* p_inv\n",
    "    x_inside = n_pi_pinv * x \n",
    "    mode_n = bn * np.sin(x_inside)\n",
    "    return mode_n\n",
    "\n",
    "\n",
    "def calc_Sn(n_sigma, x, p=np.pi):\n",
    "    p_inv = 1.0 / p\n",
    "    result = np.zeros_like(x)\n",
    "    for n in range(1, n_sigma+1):\n",
    "        mode_n = calc_mode_n(x, p_inv, n)\n",
    "        result += mode_n\n",
    "    return result\n",
    "\n"
   ]
  },
  {
   "cell_type": "code",
   "execution_count": null,
   "metadata": {},
   "outputs": [],
   "source": [
    "N = 10\n",
    "p = 2.0\n",
    "pinv = 1.0 / p\n",
    "\n",
    "x = np.arange(-10, 10+1e-7,0.01)\n",
    "x_vlines = np.arange(x.min(), x.max()+1e-7, 2.0)\n",
    "\n",
    "fig, axs = plt.subplots(N-1, 2, figsize=(12, 1.5*(N-1)))\n",
    "\n",
    "axs_mode = axs[:,0]\n",
    "axs_fourier = axs[:,1]\n",
    "\n",
    "for n_sigma, ax_mode, ax_fourier in zip(range(1, N), axs_mode, axs_fourier):\n",
    "    ax_mode.plot(x, calc_mode_n(x, pinv, n_sigma))\n",
    "\n",
    "    ax_fourier.plot(x, calc_f(x))\n",
    "    ax_fourier.vlines(x_vlines, -2, 2, linestyles='dotted')\n",
    "    y_fourier = calc_Sn(n_sigma, x, p)\n",
    "    ax_fourier.plot(x, y_fourier)\n",
    "\n",
    "    ax_mode.set_xlim(x.min(), x.max())\n",
    "    ax_mode.set_ylim(-2, 2)\n",
    "    ax_fourier.set_xlim(x.min(), x.max())\n",
    "    \n",
    "    ax_mode.grid(True)\n",
    "    ax_fourier.grid(True)\n",
    "\n",
    "plt.tight_layout()\n",
    "\n"
   ]
  },
  {
   "cell_type": "markdown",
   "metadata": {},
   "source": [
    "### Spectrum\n",
    "\n"
   ]
  },
  {
   "cell_type": "code",
   "execution_count": null,
   "metadata": {},
   "outputs": [],
   "source": [
    "freq_rad_list = [0]\n",
    "\n",
    "a_list = [calc_an(0)]\n",
    "b_list = [0]\n",
    "\n",
    "mag_list = [abs(calc_an(0))]\n",
    "arg_rad_list = [0.0]\n",
    "\n",
    "for n in range(1, N):\n",
    "    an = calc_an(n)\n",
    "    bn = calc_bn(n)\n",
    "\n",
    "    freq_rad_list.append(n*np.pi/p)\n",
    "    a_list.append(an)\n",
    "    b_list.append(bn)\n",
    "\n",
    "    mag_list.append((an**2 + bn**2)**0.5)\n",
    "    arg_rad_list.append(np.arctan2(-bn, an))\n",
    "\n",
    "# wrap phase to avoid excessive discontinuity\n",
    "arg_rad_array = np.array(arg_rad_list)\n",
    "arg_deg_array = np.rad2deg(arg_rad_list)\n",
    "\n",
    "freq_deg_array = np.array(freq_rad_list) * (0.5 / np.pi)\n",
    "\n",
    "plt.close()\n",
    "plt.subplot(2, 1, 1)\n",
    "plt.plot(freq_deg_array, mag_list, '.-')\n",
    "plt.ylabel('magnitude')\n",
    "plt.grid(True)\n",
    "\n",
    "plt.subplot(2, 1, 2)\n",
    "plt.plot(freq_deg_array, arg_deg_array, '.-')\n",
    "plt.xlabel('freq(Hz)')\n",
    "plt.ylabel('phase(deg)')\n",
    "plt.grid(True)\n",
    "plt.tight_layout()\n",
    "\n"
   ]
  },
  {
   "cell_type": "markdown",
   "metadata": {},
   "source": [
    "### Example 12.3.2\n",
    "\n"
   ]
  },
  {
   "cell_type": "code",
   "execution_count": null,
   "metadata": {},
   "outputs": [],
   "source": [
    "def calc_f(x_rad):\n",
    "    result = np.ones_like(x_rad)\n",
    "    x_phase = x_rad % (2 * np.pi)\n",
    "    result[x_phase>=np.pi] = -1.0\n",
    "    return result\n",
    "\n",
    "\n",
    "def calc_an(n):\n",
    "    return 0.0\n",
    "\n",
    "\n",
    "def calc_bn(n):\n",
    "    return 2.0 * (1-(-1)**(n)) /(n * np.pi)\n",
    "\n",
    "\n",
    "def calc_mode_n(x, p_inv, n):\n",
    "    bn = calc_bn(n)\n",
    "    n_pi_pinv = n*np.pi* p_inv\n",
    "    x_inside = n_pi_pinv * x\n",
    "    mode_n = bn * np.sin(x_inside)\n",
    "    return mode_n\n",
    "\n",
    "\n",
    "def calc_Sn(n_sigma, x, p=np.pi):\n",
    "    p_inv = 1.0 / p\n",
    "    result = np.zeros_like(x)\n",
    "    for n in range(1, n_sigma+1):\n",
    "        mode_n = calc_mode_n(x, p_inv, n)\n",
    "        result += mode_n\n",
    "    return result\n",
    "\n"
   ]
  },
  {
   "cell_type": "code",
   "execution_count": null,
   "metadata": {},
   "outputs": [],
   "source": [
    "N = 10\n",
    "\n",
    "x = np.arange(-10, 10+1e-7,0.01)\n",
    "x_vlines = np.arange(-3, 3+1e-7, 1.0) * np.pi\n",
    "\n",
    "fig, axs = plt.subplots(N-1, 2, figsize=(12, 1.5*(N-1)))\n",
    "\n",
    "axs_mode = axs[:,0]\n",
    "axs_fourier = axs[:,1]\n",
    "\n",
    "for n_sigma, ax_mode, ax_fourier in zip(range(1, N), axs_mode, axs_fourier):\n",
    "    ax_mode.plot(x, calc_mode_n(x, 1.0/np.pi, n_sigma))\n",
    "\n",
    "    ax_fourier.plot(x, calc_f(x))\n",
    "    ax_fourier.vlines(x_vlines, -2, 2, linestyles='dotted')\n",
    "    y_fourier = calc_Sn(n_sigma, x, np.pi)\n",
    "    ax_fourier.plot(x, y_fourier)\n",
    "\n",
    "    ax_mode.set_xlim(x.min(), x.max())\n",
    "    ax_mode.set_ylim(-2, 2)\n",
    "    ax_fourier.set_xlim(x.min(), x.max())\n",
    "    \n",
    "    ax_mode.grid(True)\n",
    "    ax_fourier.grid(True)\n",
    "\n",
    "plt.tight_layout()\n",
    "\n"
   ]
  },
  {
   "cell_type": "markdown",
   "metadata": {},
   "source": [
    "### Spectrum\n",
    "\n"
   ]
  },
  {
   "cell_type": "code",
   "execution_count": null,
   "metadata": {},
   "outputs": [],
   "source": [
    "freq_rad_list = [0]\n",
    "\n",
    "a_list = [calc_an(0)]\n",
    "b_list = [0]\n",
    "\n",
    "mag_list = [abs(calc_an(0))]\n",
    "arg_rad_list = [0.0]\n",
    "\n",
    "for n in range(1, N):\n",
    "    an = calc_an(n)\n",
    "    bn = calc_bn(n)\n",
    "\n",
    "    freq_rad_list.append(n*np.pi/p)\n",
    "    a_list.append(an)\n",
    "    b_list.append(bn)\n",
    "\n",
    "    mag_list.append((an**2 + bn**2)**0.5)\n",
    "    arg_rad_list.append(np.arctan2(-bn, an))\n",
    "\n",
    "# wrap phase to avoid excessive discontinuity\n",
    "arg_rad_array = np.array(arg_rad_list)\n",
    "arg_deg_array = np.rad2deg(arg_rad_array)\n",
    "arg_diff_deg_array = np.hstack([[0], np.diff(arg_deg_array)])\n",
    "arg_deg_array[arg_diff_deg_array>175] += (-180)\n",
    "\n",
    "freq_deg_array = np.array(freq_rad_list) * (0.5 / np.pi)\n",
    "\n",
    "plt.close()\n",
    "plt.subplot(2, 1, 1)\n",
    "plt.plot(freq_deg_array, mag_list, '.-')\n",
    "plt.ylabel('magnitude')\n",
    "plt.grid(True)\n",
    "\n",
    "plt.subplot(2, 1, 2)\n",
    "plt.plot(freq_deg_array, arg_deg_array, '.-')\n",
    "plt.xlabel('freq(Hz)')\n",
    "plt.ylabel('phase(deg)')\n",
    "plt.grid(True)\n",
    "plt.tight_layout()\n",
    "\n"
   ]
  },
  {
   "cell_type": "markdown",
   "metadata": {},
   "source": [
    "## Example 12.3.4\n",
    "\n"
   ]
  },
  {
   "cell_type": "markdown",
   "metadata": {},
   "source": [
    "$$\n",
    "b_n\n",
    "=\n",
    "  2\\int_{0}^{1}\n",
    "    \\pi t \\sin n \\pi t dt\n",
    "$$\n",
    "\n"
   ]
  },
  {
   "cell_type": "markdown",
   "metadata": {},
   "source": [
    "$$\n",
    "x_p(t)\n",
    "=\n",
    "  \\sum_{n=1}^{\\infty}\n",
    "    \\frac{2(-1)^{n+1}}\n",
    "      {n\\left[k-mn^2\\pi^2\\right]}\n",
    "    \\sin n\\pi t\n",
    "$$\n",
    "\n"
   ]
  },
  {
   "cell_type": "code",
   "execution_count": null,
   "metadata": {},
   "outputs": [],
   "source": [
    "n = sym.symbols('n', positive=True, integer=True)\n",
    "t = sym.symbols('t')\n",
    "\n",
    "bn = sym.simplify(\n",
    "    2 * sym.integrate(\n",
    "        sym.pi * t * sym.sin(n * sym.pi * t),\n",
    "        (t, 0, 1)\n",
    "    )\n",
    ")\n",
    "bn\n",
    "\n"
   ]
  },
  {
   "cell_type": "code",
   "execution_count": null,
   "metadata": {},
   "outputs": [],
   "source": [
    "m = 1 / 16.0\n",
    "k = 4.0\n",
    "\n",
    "def calc_bn(n, m=(1/16), k=4):\n",
    "    return (\n",
    "        (2 * (-1)**(n+1))\n",
    "        /(n * (k - m * n * n * np.pi * np.pi))\n",
    "    )\n",
    "\n",
    "\n",
    "def calc_mode(n, x, m=(1/16), k=4):\n",
    "    return calc_bn(n, m, k) * np.sin(n * np.pi * x)\n",
    "\n"
   ]
  },
  {
   "cell_type": "code",
   "execution_count": null,
   "metadata": {},
   "outputs": [],
   "source": [
    "N = 10\n",
    "\n",
    "x = np.arange(0, 5+1e-7, 0.01)\n",
    "y = np.zeros_like(x)\n",
    "\n",
    "for n in range(1, N+1):\n",
    "    mode = calc_mode(n, x, m, k)\n",
    "    y += mode\n",
    "\n",
    "plt.plot(x, y)\n",
    "plt.xlabel('t')\n",
    "plt.ylabel('$x_p(t)$')\n",
    "plt.xlim((x.min(), x.max()))\n",
    "plt.grid(True)\n",
    "\n"
   ]
  },
  {
   "cell_type": "code",
   "execution_count": null,
   "metadata": {},
   "outputs": [],
   "source": []
  }
 ],
 "metadata": {
  "kernelspec": {
   "display_name": "Python 3 (ipykernel)",
   "language": "python",
   "name": "python3"
  },
  "language_info": {
   "codemirror_mode": {
    "name": "ipython",
    "version": 3
   },
   "file_extension": ".py",
   "mimetype": "text/x-python",
   "name": "python",
   "nbconvert_exporter": "python",
   "pygments_lexer": "ipython3",
   "version": "3.10.0"
  }
 },
 "nbformat": 4,
 "nbformat_minor": 5
}