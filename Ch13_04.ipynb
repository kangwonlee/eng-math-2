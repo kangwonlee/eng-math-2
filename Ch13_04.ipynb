{
 "cells": [
  {
   "cell_type": "markdown",
   "metadata": {
    "id": "view-in-github",
    "colab_type": "text"
   },
   "source": [
    "<a href=\"https://colab.research.google.com/github/kangwonlee/eng-math-2/blob/main/Ch13_04.ipynb\" target=\"_parent\"><img src=\"https://colab.research.google.com/assets/colab-badge.svg\" alt=\"Open In Colab\"/></a>\n"
   ]
  },
  {
   "cell_type": "code",
   "execution_count": null,
   "metadata": {},
   "outputs": [],
   "source": [
    "import matplotlib.pyplot as plt\n",
    "import numpy as np\n",
    "import sympy as sym\n",
    "\n"
   ]
  },
  {
   "cell_type": "code",
   "execution_count": null,
   "metadata": {},
   "outputs": [],
   "source": [
    "class WaveEquationPlotter:\n",
    "    def __init__(self, L:float=np.pi):\n",
    "        self.L = L\n",
    "        self.half_L = L * 0.5\n",
    "        self.f_slope = 1.0 / (self.half_L)\n",
    "\n",
    "        self.x_default = np.linspace(0, self.L, 51)\n",
    "\n",
    "    def calc_f_array(self, x:np.ndarray):\n",
    "        result = np.zeros_like(x)\n",
    "        result[x < self.half_L] = self.f_slope * x[x < self.half_L]\n",
    "        result[x >= self.half_L] = ((-1.0) * self.f_slope) * (x[x >= self.half_L] - self.L)\n",
    "        return result\n",
    "\n",
    "    def plot_f(self, x=None):\n",
    "        if x is None:\n",
    "            x = self.x_default\n",
    "\n",
    "        x_pi = x * (1.0 / np.pi)\n",
    "\n",
    "        ax = plt.gca()\n",
    "        ax.plot(x_pi, self.calc_f_array(x))\n",
    "        ax.set_xlabel('x')\n",
    "        ax.set_xlim(min(x_pi), max(x_pi))\n",
    "        ticks = ax.get_xticks()\n",
    "        ax.set_xticks(\n",
    "            ticks=ticks,\n",
    "            labels=map(\n",
    "                lambda i:fr'${i:g}\\pi$',\n",
    "                ticks\n",
    "            )\n",
    "        )\n",
    "        ax.set_ylabel('f(x)')\n",
    "        plt.grid(True)\n",
    "\n",
    "    def get_symbolic_f(self):\n",
    "        x, L = sym.symbols('x L')\n",
    "        half_L = L / 2\n",
    "        slope = 1 / half_L\n",
    "\n",
    "        return sym.Piecewise(\n",
    "            (slope * x, x < half_L),\n",
    "            (-slope * (x - L), x >= half_L)\n",
    "        )\n",
    "\n"
   ]
  },
  {
   "cell_type": "code",
   "execution_count": null,
   "metadata": {},
   "outputs": [],
   "source": [
    "p = WaveEquationPlotter()\n",
    "p.plot_f()\n",
    "\n"
   ]
  },
  {
   "cell_type": "code",
   "execution_count": null,
   "metadata": {},
   "outputs": [],
   "source": [
    "f = p.get_symbolic_f()\n",
    "f\n",
    "\n"
   ]
  },
  {
   "cell_type": "code",
   "execution_count": null,
   "metadata": {},
   "outputs": [],
   "source": []
  }
 ],
 "metadata": {
  "kernelspec": {
   "display_name": "Python 3 (ipykernel)",
   "language": "python",
   "name": "python3"
  },
  "language_info": {
   "codemirror_mode": {
    "name": "ipython",
    "version": 3
   },
   "file_extension": ".py",
   "mimetype": "text/x-python",
   "name": "python",
   "nbconvert_exporter": "python",
   "pygments_lexer": "ipython3",
   "version": "3.10.0"
  }
 },
 "nbformat": 4,
 "nbformat_minor": 5
}