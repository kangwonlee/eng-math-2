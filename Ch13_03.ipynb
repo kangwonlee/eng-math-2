{
 "cells": [
  {
   "cell_type": "markdown",
   "metadata": {
    "id": "view-in-github",
    "colab_type": "text"
   },
   "source": [
    "<a href=\"https://colab.research.google.com/github/kangwonlee/eng-math-2/blob/update-utils/Ch13_03.ipynb\" target=\"_parent\"><img src=\"https://colab.research.google.com/assets/colab-badge.svg\" alt=\"Open In Colab\"/></a>\n"
   ]
  },
  {
   "cell_type": "code",
   "execution_count": null,
   "metadata": {},
   "outputs": [],
   "source": [
    "import dataclasses\n",
    "\n",
    "import matplotlib.pyplot as plt\n",
    "import numpy as np\n",
    "\n",
    "from mpl_toolkits.mplot3d import Axes3D\n",
    "\n"
   ]
  },
  {
   "cell_type": "code",
   "execution_count": null,
   "metadata": {},
   "outputs": [],
   "source": [
    "@dataclasses.dataclass\n",
    "class EigenFunctionPlotter:\n",
    "    L : float = 1.0\n",
    "    max_n : int = 10\n",
    "    A : float = 1.0\n",
    "    n_points : int = 181\n",
    "\n",
    "    def __post_init__(self):\n",
    "        self.x = np.linspace(0, self.L, self.n_points)\n",
    "        self.pi_L = np.pi / self.L\n",
    "        self.pi_x_L = self.pi_L * self.x\n",
    "\n",
    "    def calc_eigenfunction(self, n:int):\n",
    "        return np.sin(n * self.pi_x_L)\n",
    "\n",
    "    def plot(self):\n",
    "        axs = plt.figure(\n",
    "            figsize=(6, (self.n_points*0.1))\n",
    "        ).subplots(self.max_n, 1)\n",
    "\n",
    "        for n, ax in zip(range(1, self.max_n+1), axs):\n",
    "            ax.plot(self.x, self.calc_eigenfunction(n))\n",
    "            ax.set_xlim(0, self.L)\n",
    "            ax.set_ylabel(f'n={n}')\n",
    "            ax.grid(True)\n",
    "        ax.set_xlabel('x')\n",
    "        plt.tight_layout()\n",
    "\n"
   ]
  },
  {
   "cell_type": "code",
   "execution_count": null,
   "metadata": {},
   "outputs": [],
   "source": [
    "p = EigenFunctionPlotter()\n",
    "p.plot()\n",
    "\n"
   ]
  },
  {
   "cell_type": "code",
   "execution_count": null,
   "metadata": {},
   "outputs": [],
   "source": [
    "@dataclasses.dataclass\n",
    "class SolutionPlotter(EigenFunctionPlotter):\n",
    "    k : float = 1.0\n",
    "    t_max: float = 1.0\n",
    "    delta_t : float = 1e-2\n",
    "\n",
    "    def __post_init__(self):\n",
    "        super().__post_init__()\n",
    "        self.t = np.arange(\n",
    "            0.0,\n",
    "            self.t_max + (self.delta_t * 0.5),\n",
    "            self.delta_t\n",
    "        )\n",
    "\n",
    "        self.X, self.T = np.meshgrid(self.x, self.t)\n",
    "\n",
    "    @staticmethod\n",
    "    def calc_An(n:int):\n",
    "        return (\n",
    "            (200 * (1 + (-1)**(n+1)))\n",
    "            /\n",
    "            (n * np.pi)\n",
    "        )\n",
    "\n",
    "    def calc_sol_n(self, n):\n",
    "        return (\n",
    "            self.calc_An(n) * np.exp((-1)*(n**2)*self.T) * np.sin(n * self.X)\n",
    "        )\n",
    "\n",
    "    def cumsum_sol(self):\n",
    "        return sum(\n",
    "            map(\n",
    "                self.calc_sol_n,\n",
    "                range(1, self.max_n),\n",
    "            )\n",
    "        )\n",
    "\n",
    "    def plot(self, elev:float=30.0, azim:float=30.0):\n",
    "        fig = plt.figure()\n",
    "        ax = fig.add_subplot(111, projection='3d')\n",
    "        ax.view_init(elev=elev, azim=azim)\n",
    "        self.surf = ax.plot_surface(\n",
    "            self.X, self.T, self.cumsum_sol(),\n",
    "            cmap='viridis',\n",
    "        )\n",
    "        plt.colorbar(self.surf)\n",
    "        ax.set_xlabel('x')\n",
    "        ax.set_ylabel('t')\n",
    "        ax.grid(True)\n",
    "\n"
   ]
  },
  {
   "cell_type": "code",
   "execution_count": null,
   "metadata": {},
   "outputs": [],
   "source": [
    "sp = SolutionPlotter(max_n=100, L=np.pi, delta_t=1e-3)\n",
    "sp.plot()\n",
    "\n"
   ]
  },
  {
   "cell_type": "code",
   "execution_count": null,
   "metadata": {},
   "outputs": [],
   "source": []
  }
 ],
 "metadata": {
  "kernelspec": {
   "display_name": "Python 3 (ipykernel)",
   "language": "python",
   "name": "python3"
  },
  "language_info": {
   "codemirror_mode": {
    "name": "ipython",
    "version": 3
   },
   "file_extension": ".py",
   "mimetype": "text/x-python",
   "name": "python",
   "nbconvert_exporter": "python",
   "pygments_lexer": "ipython3",
   "version": "3.10.0"
  }
 },
 "nbformat": 4,
 "nbformat_minor": 5
}