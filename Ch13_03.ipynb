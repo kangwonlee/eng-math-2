{
 "cells": [
  {
   "cell_type": "markdown",
   "metadata": {
    "id": "view-in-github",
    "colab_type": "text"
   },
   "source": [
    "<a href=\"https://colab.research.google.com/github/kangwonlee/eng-math-2/blob/main/Ch13_03.ipynb\" target=\"_parent\"><img src=\"https://colab.research.google.com/assets/colab-badge.svg\" alt=\"Open In Colab\"/></a>\n"
   ]
  },
  {
   "cell_type": "code",
   "execution_count": null,
   "metadata": {},
   "outputs": [],
   "source": [
    "import dataclasses\n",
    "\n",
    "import matplotlib.pyplot as plt\n",
    "import numpy as np\n",
    "\n"
   ]
  },
  {
   "cell_type": "code",
   "execution_count": null,
   "metadata": {},
   "outputs": [],
   "source": [
    "@dataclasses.dataclass\n",
    "class EigenFunctionPlotter:\n",
    "    L : float = 1.0\n",
    "    max_n : int = 10\n",
    "    A : float = 1.0\n",
    "    n_points : int = 181\n",
    "\n",
    "    def __post_init__(self):\n",
    "        self.x = np.linspace(0, self.L, self.n_points)\n",
    "        self.pi_L = np.pi / self.L\n",
    "        self.pi_x_L = self.pi_L * self.x\n",
    "\n",
    "    def calc_eigenfunction(self, n:int):\n",
    "        return np.sin(n * self.pi_x_L)\n",
    "\n",
    "    def plot(self):\n",
    "        axs = plt.figure(\n",
    "            figsize=(6, (self.n_points*0.1))\n",
    "        ).subplots(self.max_n, 1)\n",
    "\n",
    "        for n, ax in zip(range(1, self.max_n+1), axs):\n",
    "            ax.plot(self.x, self.calc_eigenfunction(n))\n",
    "            ax.set_xlim(0, self.L)\n",
    "            ax.set_ylabel(f'n={n}')\n",
    "            ax.grid(True)\n",
    "        ax.set_xlabel('x')\n",
    "        plt.tight_layout()\n",
    "\n"
   ]
  },
  {
   "cell_type": "code",
   "execution_count": null,
   "metadata": {},
   "outputs": [],
   "source": [
    "p = EigenFunctionPlotter()\n",
    "p.plot()\n",
    "\n"
   ]
  },
  {
   "cell_type": "code",
   "execution_count": null,
   "metadata": {},
   "outputs": [],
   "source": []
  }
 ],
 "metadata": {
  "kernelspec": {
   "display_name": "Python 3 (ipykernel)",
   "language": "python",
   "name": "python3"
  },
  "language_info": {
   "codemirror_mode": {
    "name": "ipython",
    "version": 3
   },
   "file_extension": ".py",
   "mimetype": "text/x-python",
   "name": "python",
   "nbconvert_exporter": "python",
   "pygments_lexer": "ipython3",
   "version": "3.10.0"
  }
 },
 "nbformat": 4,
 "nbformat_minor": 5
}