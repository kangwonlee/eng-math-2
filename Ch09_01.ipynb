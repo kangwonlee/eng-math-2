{
 "nbformat": 4,
 "nbformat_minor": 0,
 "metadata": {
  "colab": {
   "private_outputs": true,
   "provenance": []
  },
  "kernelspec": {
   "name": "python3",
   "display_name": "Python 3"
  },
  "language_info": {
   "name": "python"
  }
 },
 "cells": [
  {
   "cell_type": "markdown",
   "metadata": {
    "id": "view-in-github",
    "colab_type": "text"
   },
   "source": [
    "<a href=\"https://colab.research.google.com/github/kangwonlee/eng-math-2/blob/update-utils/Ch09_01.ipynb\" target=\"_parent\"><img src=\"https://colab.research.google.com/assets/colab-badge.svg\" alt=\"Open In Colab\"/></a>\n"
   ]
  },
  {
   "cell_type": "code",
   "execution_count": null,
   "metadata": {},
   "outputs": [],
   "source": [
    "import matplotlib.pyplot as plt\n",
    "import numpy as np\n",
    "\n"
   ]
  },
  {
   "cell_type": "markdown",
   "source": [
    "Example 9.1 Circular Helix\n",
    "\n"
   ],
   "metadata": {}
  },
  {
   "cell_type": "code",
   "source": [
    "t = np.linspace(0, 9 * np.pi * 0.5)\n",
    "x = 2 * np.cos(t)\n",
    "y = 2 * np.sin(t)\n",
    "z = t\n",
    "\n"
   ],
   "metadata": {},
   "execution_count": null,
   "outputs": []
  },
  {
   "cell_type": "code",
   "source": [
    "ax = plt.figure().add_subplot(projection='3d')\n",
    "\n",
    "ax.plot(x, y, z)\n",
    "plt.xlabel('x')\n",
    "plt.ylabel('y')\n",
    "plt.grid(True)\n",
    "\n"
   ],
   "metadata": {},
   "execution_count": null,
   "outputs": []
  },
  {
   "cell_type": "markdown",
   "source": [
    "Example 9.2 Circular in a Plane\n",
    "\n"
   ],
   "metadata": {}
  },
  {
   "cell_type": "code",
   "source": [
    "t = np.linspace(0, 9 * np.pi * 0.5)\n",
    "x = 2 * np.cos(t)\n",
    "y = 2 * np.sin(t)\n",
    "z = 3\n",
    "\n"
   ],
   "metadata": {},
   "execution_count": null,
   "outputs": []
  },
  {
   "cell_type": "code",
   "source": [
    "ax.clear()\n",
    "ax = plt.figure().add_subplot(projection='3d')\n",
    "ax.plot(x, y, z)\n",
    "plt.xlabel('x')\n",
    "plt.ylabel('y')\n",
    "plt.grid(True)\n",
    "\n"
   ],
   "metadata": {},
   "execution_count": null,
   "outputs": []
  },
  {
   "cell_type": "markdown",
   "source": [
    "Example 9.3 Curve of Intersection\n",
    "\n"
   ],
   "metadata": {}
  },
  {
   "cell_type": "markdown",
   "source": [
    "Surface\n"
   ],
   "metadata": {}
  },
  {
   "cell_type": "code",
   "source": [
    "x_surface = np.linspace(-1.5, 1.5)\n",
    "y_surface = np.linspace(-3.0, 3.0)\n",
    "X, Y = np.meshgrid(x_surface, y_surface)\n",
    "Z = 9 - X ** 2 - Y ** 2\n",
    "\n"
   ],
   "metadata": {},
   "execution_count": null,
   "outputs": []
  },
  {
   "cell_type": "markdown",
   "source": [
    "Intersection curve\n"
   ],
   "metadata": {}
  },
  {
   "cell_type": "code",
   "source": [
    "t = np.linspace(-1.5, 1.5)\n",
    "x = t\n",
    "y = 2 * t\n",
    "z = 9 - 5 * (t ** 2)\n",
    "\n"
   ],
   "metadata": {},
   "execution_count": null,
   "outputs": []
  },
  {
   "cell_type": "code",
   "source": [
    "ax.clear()\n",
    "ax = plt.figure().add_subplot(projection='3d')\n",
    "\n",
    "ax.plot_surface(X, Y, Z, alpha=0.3)\n",
    "ax.plot(x, y, z)\n",
    "plt.xlabel('x')\n",
    "plt.ylabel('y')\n",
    "plt.grid(True)\n",
    "\n"
   ],
   "metadata": {},
   "execution_count": null,
   "outputs": []
  },
  {
   "cell_type": "markdown",
   "source": [
    "Example 9.4 Tangent Vectors\n",
    "\n"
   ],
   "metadata": {}
  },
  {
   "cell_type": "markdown",
   "source": [
    "Curve\n"
   ],
   "metadata": {}
  },
  {
   "cell_type": "code",
   "source": [
    "t = np.linspace(0, 2*np.pi)\n",
    "x = np.cos(2*t)\n",
    "y = np.sin(t)\n",
    "\n"
   ],
   "metadata": {},
   "execution_count": null,
   "outputs": []
  },
  {
   "cell_type": "markdown",
   "source": [
    "Derivative\n",
    "\n"
   ],
   "metadata": {}
  },
  {
   "cell_type": "code",
   "source": [
    "dxdt = -np.sin(2*t) * 2\n",
    "dydt = np.cos(t)\n",
    "\n"
   ],
   "metadata": {},
   "execution_count": null,
   "outputs": []
  },
  {
   "cell_type": "code",
   "source": [
    "x_0 = np.cos(2*0)\n",
    "y_0 = np.sin(0)\n",
    "dxdt_0 = -np.sin(2*0) * 2\n",
    "dydt_0 = np.cos(0)\n",
    "\n"
   ],
   "metadata": {},
   "execution_count": null,
   "outputs": []
  },
  {
   "cell_type": "code",
   "source": [
    "t1 = np.pi/6\n",
    "x_1 = np.cos(2*t1)\n",
    "y_1 = np.sin(t1)\n",
    "dxdt_1 = -np.sin(2*t1) * 2\n",
    "dydt_1 = np.cos(t1)\n",
    "\n"
   ],
   "metadata": {},
   "execution_count": null,
   "outputs": []
  },
  {
   "cell_type": "code",
   "source": [
    "ax.clear()\n",
    "plt.plot(x, y)\n",
    "plt.xlabel('x')\n",
    "plt.ylabel('y')\n",
    "\n",
    "plt.arrow(x_0, y_0, dxdt_0, dydt_0, head_width=0.1)\n",
    "plt.arrow(x_1, y_1, dxdt_1, dydt_1, head_width=0.1)\n",
    "\n",
    "plt.axis('equal')\n",
    "plt.grid(True)\n",
    "\n"
   ],
   "metadata": {},
   "execution_count": null,
   "outputs": []
  },
  {
   "cell_type": "markdown",
   "source": [
    "Example 9.5 Tangent Line\n",
    "\n"
   ],
   "metadata": {}
  },
  {
   "cell_type": "code",
   "source": [
    "from mpl_toolkits.mplot3d.proj3d import proj_transform\n",
    "from mpl_toolkits.mplot3d.axes3d import Axes3D\n",
    "\n"
   ],
   "metadata": {},
   "execution_count": null,
   "outputs": []
  },
  {
   "cell_type": "code",
   "source": [
    "t = np.linspace(0, 6)\n",
    "\n",
    "x = t ** 2\n",
    "y = t ** 2 - t\n",
    "z = -7 * t\n",
    "\n"
   ],
   "metadata": {},
   "execution_count": null,
   "outputs": []
  },
  {
   "cell_type": "code",
   "source": [
    "t0 = 3\n",
    "x0 = t0 ** 2\n",
    "y0 = t0 ** 2 - t0\n",
    "z0 = -7 * t0\n",
    "\n",
    "dxdt0 = 2 * t0\n",
    "dydt0 = 2 * t0 - 1\n",
    "dzdt0 = -7\n",
    "\n"
   ],
   "metadata": {},
   "execution_count": null,
   "outputs": []
  },
  {
   "cell_type": "code",
   "source": [
    "ax.clear()\n",
    "ax = plt.figure().add_subplot(projection='3d')\n",
    "ax.plot(x, y, z)\n",
    "\n",
    "ax.quiver(\n",
    "    x0, y0, z0,\n",
    "    dxdt0, dydt0, dzdt0,\n",
    "    color='r'\n",
    ")\n",
    "\n",
    "plt.xlabel('x')\n",
    "plt.ylabel('y')\n",
    "plt.grid(True)\n",
    "\n"
   ],
   "metadata": {},
   "execution_count": null,
   "outputs": []
  },
  {
   "cell_type": "code",
   "source": [],
   "metadata": {},
   "execution_count": null,
   "outputs": []
  }
 ]
}