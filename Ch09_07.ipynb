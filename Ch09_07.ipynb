{
 "cells": [
  {
   "cell_type": "markdown",
   "metadata": {
    "id": "view-in-github",
    "colab_type": "text"
   },
   "source": [
    "<a href=\"https://colab.research.google.com/github/kangwonlee/eng-math-2/blob/main/Ch09_07.ipynb\" target=\"_parent\"><img src=\"https://colab.research.google.com/assets/colab-badge.svg\" alt=\"Open In Colab\"/></a>\n"
   ]
  },
  {
   "cell_type": "code",
   "execution_count": null,
   "metadata": {},
   "outputs": [],
   "source": [
    "import matplotlib.pyplot as plt\n",
    "import numpy as np\n",
    "\n"
   ]
  },
  {
   "cell_type": "markdown",
   "metadata": {},
   "source": [
    "## Example 9.7.1\n",
    "\n"
   ]
  },
  {
   "cell_type": "code",
   "execution_count": null,
   "metadata": {},
   "outputs": [],
   "source": [
    "def calc_f(x, y):\n",
    "    return (-y, x)\n",
    "\n"
   ]
  },
  {
   "cell_type": "code",
   "execution_count": null,
   "metadata": {},
   "outputs": [],
   "source": [
    "x = np.linspace(-5, 5, 10)\n",
    "y = x\n",
    "\n",
    "X, Y = np.meshgrid(x, y)\n",
    "\n"
   ]
  },
  {
   "cell_type": "code",
   "execution_count": null,
   "metadata": {},
   "outputs": [],
   "source": [
    "F = calc_f(X, Y)\n",
    "plt.quiver(X, Y, *F,)\n",
    "\n",
    "plt.xlabel('x')\n",
    "plt.ylabel('y')\n",
    "plt.grid(True)\n",
    "\n"
   ]
  },
  {
   "cell_type": "markdown",
   "metadata": {},
   "source": [
    "## Example 9.7.2\n",
    "\n"
   ]
  },
  {
   "cell_type": "markdown",
   "metadata": {},
   "source": [
    "### a) curl\n",
    "\n"
   ]
  },
  {
   "cell_type": "code",
   "execution_count": null,
   "metadata": {},
   "outputs": [],
   "source": [
    "def calc_f(x, y, z):\n",
    "    return (\n",
    "        x*x*(y**3)-z**4,\n",
    "        4*(x**5)*(y**2)*z,\n",
    "        -(y**4)*(z**6),\n",
    "    )\n",
    "\n"
   ]
  },
  {
   "cell_type": "code",
   "execution_count": null,
   "metadata": {},
   "outputs": [],
   "source": [
    "def calc_curl_f(x, y, z):\n",
    "    return (\n",
    "        (-4)*(y**3)*(z**6)+(-4)*(x**5)*(y**2),\n",
    "        (-4)*(z**3),\n",
    "        20*(x**4)*(y**2)*(z) + (-3)*(x**2)*(y**2),\n",
    "    )\n",
    "\n"
   ]
  },
  {
   "cell_type": "code",
   "execution_count": null,
   "metadata": {},
   "outputs": [],
   "source": [
    "x = np.linspace(-5, 5, 6)\n",
    "y = x\n",
    "z = x\n",
    "\n",
    "X, Y, Z = np.meshgrid(x, y, z)\n",
    "\n",
    "f_val = calc_f(X, Y, Z)\n",
    "curl_f = calc_curl_f(X, Y, Z)\n",
    "\n"
   ]
  },
  {
   "cell_type": "code",
   "execution_count": null,
   "metadata": {},
   "outputs": [],
   "source": [
    "ax = plt.figure(figsize=(16,16)).add_subplot(projection='3d')\n",
    "\n",
    "ax.quiver3D(X, Y, Z, *f_val, normalize=True, alpha=0.5)\n",
    "ax.quiver3D(X, Y, Z, *curl_f, normalize=True, alpha=0.5, color='C1')\n",
    "\n",
    "plt.title(r'$curl \\mathbb{F}$')\n",
    "plt.xlabel('x')\n",
    "plt.ylabel('y')\n",
    "plt.grid(True)\n",
    "\n"
   ]
  },
  {
   "cell_type": "markdown",
   "metadata": {},
   "source": [
    "### b) div\n",
    "\n"
   ]
  },
  {
   "cell_type": "code",
   "execution_count": null,
   "metadata": {},
   "outputs": [],
   "source": [
    "def calc_div_f(x, y, z):\n",
    "    return (\n",
    "        2*x*(y**3)\n",
    "        + 8 * (x**5) * y * z\n",
    "        + (-6) * (y**4) * (z**5)\n",
    "    )\n",
    "\n"
   ]
  },
  {
   "cell_type": "code",
   "execution_count": null,
   "metadata": {},
   "outputs": [],
   "source": [
    "x = np.linspace(-5, 5, 6)\n",
    "y = x\n",
    "z = x\n",
    "\n",
    "X, Y, Z = np.meshgrid(x, y, z)\n",
    "\n",
    "f_val = calc_f(X, Y, Z)\n",
    "div_f = calc_div_f(X, Y, Z)\n",
    "\n"
   ]
  },
  {
   "cell_type": "code",
   "execution_count": null,
   "metadata": {},
   "outputs": [],
   "source": [
    "# Assuming X, Y, Z, and f_val are already defined\n",
    "\n",
    "ax = plt.figure(figsize=(16, 16)).add_subplot(projection='3d')\n",
    "\n",
    "# Create the quiver plot with increased linewidth\n",
    "arrows = ax.quiver3D(X, Y, Z, *f_val, normalize=True, alpha=0.5, linewidths=1.5)\n",
    "\n",
    "# Get the Line3DCollection object from the quiver plot\n",
    "arrow_collection = arrows._paths\n",
    "\n",
    "# Calculate magnitudes for color mapping\n",
    "magnitudes = np.linalg.norm(f_val, axis=0)\n",
    "\n",
    "# Choose 'turbo' colormap\n",
    "cmap = plt.cm.viridis\n",
    "\n",
    "# Normalize magnitudes across a wider range\n",
    "norm = plt.Normalize(vmin=magnitudes.min(), vmax=10 * magnitudes.max()) \n",
    "# Generate a list of colors based on magnitudes and the chosen colormap\n",
    "colors = cmap(norm(magnitudes))\n",
    "\n",
    "# Iterate through the segments (arrows) and set their colors\n",
    "for i, segment in enumerate(arrow_collection):\n",
    "    segment.set_color(colors[i])\n",
    "\n",
    "# Add black outlines to the arrows for better visibility\n",
    "for i, segment in enumerate(arrow_collection):\n",
    "    segment.set_edgecolor('black')\n",
    "\n",
    "plt.title(r'$curl \\mathbb{F}$')\n",
    "plt.xlabel('x')\n",
    "plt.ylabel('y')\n",
    "plt.grid(True)\n",
    "\n",
    "# Add a colorbar, specifying the 'ax' argument to avoid the warning\n",
    "plt.colorbar(plt.cm.ScalarMappable(norm=norm, cmap=cmap), ax=ax) \n",
    "\n"
   ]
  },
  {
   "cell_type": "code",
   "execution_count": null,
   "metadata": {},
   "outputs": [],
   "source": []
  }
 ],
 "metadata": {
  "colab": {
   "provenance": [
    {
     "file_id": "https://github.com/kangwonlee/eng-math-2/blob/main/Ch09_04.ipynb",
     "timestamp": 1730189730769
    }
   ]
  },
  "kernelspec": {
   "display_name": "Python 3 (ipykernel)",
   "language": "python",
   "name": "python3"
  },
  "language_info": {
   "codemirror_mode": {
    "name": "ipython",
    "version": 3
   },
   "file_extension": ".py",
   "mimetype": "text/x-python",
   "name": "python",
   "nbconvert_exporter": "python",
   "pygments_lexer": "ipython3",
   "version": "3.10.0"
  }
 },
 "nbformat": 4,
 "nbformat_minor": 5
}