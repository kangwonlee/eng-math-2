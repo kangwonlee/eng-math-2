{
 "cells": [
  {
   "cell_type": "markdown",
   "metadata": {
    "id": "view-in-github",
    "colab_type": "text"
   },
   "source": [
    "<a href=\"https://colab.research.google.com/github/kangwonlee/eng-math-2/blob/main/Ch09_08.ipynb\" target=\"_parent\"><img src=\"https://colab.research.google.com/assets/colab-badge.svg\" alt=\"Open In Colab\"/></a>\n"
   ]
  },
  {
   "cell_type": "code",
   "execution_count": null,
   "metadata": {},
   "outputs": [],
   "source": [
    "import numpy as np\n",
    "import matplotlib.pyplot as plt\n",
    "from mpl_toolkits.mplot3d import Axes3D\n",
    "from mpl_toolkits.mplot3d.art3d import Poly3DCollection\n",
    "\n"
   ]
  },
  {
   "cell_type": "markdown",
   "metadata": {},
   "source": [
    "## Example 9.8.1\n",
    "\n"
   ]
  },
  {
   "cell_type": "code",
   "execution_count": null,
   "metadata": {},
   "outputs": [],
   "source": [
    "def f(t):\n",
    "    return (\n",
    "        4 * np.cos(t),\n",
    "        4 * np.sin(t),\n",
    "    )\n",
    "\n"
   ]
  },
  {
   "cell_type": "code",
   "execution_count": null,
   "metadata": {},
   "outputs": [],
   "source": [
    "def fill_between_3d(ax,x1,y1,z1,x2,y2,z2,mode=1,c='steelblue',alpha=0.6):\n",
    "\n",
    "    \"\"\"\n",
    "\n",
    "    Function similar to the matplotlib.pyplot.fill_between function but\n",
    "    for 3D plots.\n",
    "\n",
    "    input:\n",
    "\n",
    "        ax -> The axis where the function will plot.\n",
    "\n",
    "        x1 -> 1D array. x coordinates of the first line.\n",
    "        y1 -> 1D array. y coordinates of the first line.\n",
    "        z1 -> 1D array. z coordinates of the first line.\n",
    "\n",
    "        x2 -> 1D array. x coordinates of the second line.\n",
    "        y2 -> 1D array. y coordinates of the second line.\n",
    "        z2 -> 1D array. z coordinates of the second line.\n",
    "\n",
    "    modes:\n",
    "\n",
    "        mode = 1 -> Fill between the lines using the shortest distance between\n",
    "                    both. Makes a lot of single trapezoids in the diagonals\n",
    "                    between lines and then adds them into a single collection.\n",
    "\n",
    "        mode = 2 -> Uses the lines as the edges of one only 3d polygon.\n",
    "\n",
    "    Other parameters (for matplotlib):\n",
    "\n",
    "        c -> the color of the polygon collection.\n",
    "        alpha -> transparency of the polygon collection.\n",
    "\n",
    "    \"\"\"\n",
    "\n",
    "    if mode == 1:\n",
    "\n",
    "        for i in range(len(x1)-1):\n",
    "\n",
    "            verts = [(x1[i],y1[i],z1[i]), (x1[i+1],y1[i+1],z1[i+1])] + \\\n",
    "                    [(x2[i+1],y2[i+1],z2[i+1]), (x2[i],y2[i],z2[i])]\n",
    "\n",
    "            ax.add_collection3d(Poly3DCollection([verts],\n",
    "                                                 alpha=alpha,\n",
    "                                                 linewidths=0,\n",
    "                                                 color=c))\n",
    "\n",
    "    if mode == 2:\n",
    "\n",
    "        verts = [(x1[i],y1[i],z1[i]) for i in range(len(x1))] + \\\n",
    "                [(x2[i],y2[i],z2[i]) for i in range(len(x2))]\n",
    "\n",
    "        ax.add_collection3d(Poly3DCollection([verts],alpha=alpha,color=c))\n",
    "\n"
   ]
  },
  {
   "cell_type": "code",
   "execution_count": null,
   "metadata": {},
   "outputs": [],
   "source": [
    "t = np.linspace(0, np.pi * 0.5)\n",
    "x, y = f(t)\n",
    "z = x * y * y\n",
    "\n"
   ]
  },
  {
   "cell_type": "code",
   "execution_count": null,
   "metadata": {},
   "outputs": [],
   "source": [
    "ax = plt.figure().add_subplot(projection='3d')\n",
    "\n",
    "ax.plot(x, y, 0)\n",
    "ax.plot(x, y, z)\n",
    "plt.xlabel('x')\n",
    "plt.ylabel('y')\n",
    "plt.grid(True)\n",
    "\n"
   ]
  },
  {
   "cell_type": "markdown",
   "metadata": {},
   "source": [
    "### a)\n",
    "\n"
   ]
  },
  {
   "cell_type": "code",
   "execution_count": null,
   "metadata": {},
   "outputs": [],
   "source": [
    "set1 = [x, np.zeros_like(y), z]\n",
    "set2 = [x, np.zeros_like(y), np.zeros_like(z)]\n",
    "\n",
    "fig = plt.figure()\n",
    "ax = fig.add_subplot(111, projection='3d')\n",
    "\n",
    "ax.plot(x, y, 0)\n",
    "ax.plot(x, y, z)\n",
    "ax.plot(*set1, lw=4)\n",
    "ax.plot(*set2, lw=4)\n",
    "fill_between_3d(ax, *set1, *set2, mode = 1)\n",
    "plt.xlabel('x')\n",
    "plt.ylabel('y')\n",
    "plt.grid(True)\n",
    "\n"
   ]
  },
  {
   "cell_type": "code",
   "execution_count": null,
   "metadata": {},
   "outputs": [],
   "source": [
    "area = 0\n",
    "for i in range(len(x)-1):\n",
    "    xi = x[i]\n",
    "    yi = y[i]\n",
    "    zi = z[i]\n",
    "    xj = x[i+1]\n",
    "    yj = y[i]\n",
    "    zj = z[i+1]\n",
    "\n",
    "    w = (xj - xi)\n",
    "    h = 0.5 * (zi + zj)\n",
    "\n",
    "    area += (w * h)\n",
    "\n",
    "print(area)\n"
   ]
  },
  {
   "cell_type": "markdown",
   "metadata": {},
   "source": [
    "### b)\n",
    "\n"
   ]
  },
  {
   "cell_type": "code",
   "execution_count": null,
   "metadata": {},
   "outputs": [],
   "source": [
    "set1 = [np.zeros_like(x), y, z]\n",
    "set2 = [np.zeros_like(x), np.zeros_like(y), np.zeros_like(z)]\n",
    "\n",
    "fig = plt.figure()\n",
    "ax = fig.add_subplot(111, projection='3d')\n",
    "\n",
    "ax.plot(x, y, 0)\n",
    "ax.plot(x, y, z)\n",
    "ax.plot(*set1, lw=4)\n",
    "ax.plot(*set2, lw=4)\n",
    "fill_between_3d(ax, *set1, *set2, mode = 1)\n",
    "plt.xlabel('x')\n",
    "plt.ylabel('y')\n",
    "plt.grid(True)\n",
    "\n"
   ]
  },
  {
   "cell_type": "code",
   "execution_count": null,
   "metadata": {},
   "outputs": [],
   "source": [
    "area = 0\n",
    "for i in range(len(x)-1):\n",
    "    xi = x[i]\n",
    "    yi = y[i]\n",
    "    zi = z[i]\n",
    "    xj = x[i+1]\n",
    "    yj = y[i+1]\n",
    "    zj = z[i+1]\n",
    "\n",
    "    w = (yj - yi)\n",
    "    h = 0.5 * (zi + zj)\n",
    "\n",
    "    area += (w * h)\n",
    "\n",
    "print(area  / np.pi)\n"
   ]
  },
  {
   "cell_type": "markdown",
   "metadata": {},
   "source": [
    "### c)\n",
    "\n"
   ]
  },
  {
   "cell_type": "code",
   "execution_count": null,
   "metadata": {},
   "outputs": [],
   "source": [
    "set1 = [x, y, z]\n",
    "set2 = [x, y, np.zeros_like(z)]\n",
    "\n",
    "fig = plt.figure()\n",
    "ax = fig.add_subplot(111, projection='3d')\n",
    "\n",
    "ax.plot(x, y, 0)\n",
    "ax.plot(x, y, z)\n",
    "ax.plot(*set1, lw=4)\n",
    "ax.plot(*set2, lw=4)\n",
    "fill_between_3d(ax, *set1, *set2, mode = 1)\n",
    "plt.xlabel('x')\n",
    "plt.ylabel('y')\n",
    "plt.grid(True)\n",
    "\n"
   ]
  },
  {
   "cell_type": "code",
   "execution_count": null,
   "metadata": {},
   "outputs": [],
   "source": [
    "area = 0\n",
    "for i in range(len(x)-1):\n",
    "    xi = x[i]\n",
    "    yi = y[i]\n",
    "    zi = z[i]\n",
    "    xj = x[i+1]\n",
    "    yj = y[i+1]\n",
    "    zj = z[i+1]\n",
    "\n",
    "    w = ((xj-xi)**2 + (yj-yi)**2)**0.5\n",
    "    h = 0.5 * (zi + zj)\n",
    "\n",
    "    area += (w * h)\n",
    "\n",
    "print(area * 3)\n",
    "\n"
   ]
  },
  {
   "cell_type": "markdown",
   "metadata": {},
   "source": [
    "## Example 9.8.2\n",
    "\n"
   ]
  },
  {
   "cell_type": "code",
   "execution_count": null,
   "metadata": {},
   "outputs": [],
   "source": [
    "x = np.linspace(-1, 2)\n",
    "y = x**3\n",
    "\n",
    "fx = x * y\n",
    "fy = x * x\n",
    "\n",
    "set1 = [x, np.zeros_like(y), fx]\n",
    "set2 = [x, np.zeros_like(y), np.zeros_like(fx)]\n",
    "\n",
    "fig = plt.figure()\n",
    "ax = fig.add_subplot(111, projection='3d')\n",
    "\n",
    "ax.plot(x, y, fx)\n",
    "ax.plot(x, y, 0)\n",
    "ax.plot(*set1, lw=4)\n",
    "ax.plot(*set2, lw=4)\n",
    "fill_between_3d(ax, *set1, *set2, mode = 1)\n",
    "plt.xlabel('x')\n",
    "plt.ylabel('y')\n",
    "plt.grid(True)\n",
    "\n"
   ]
  },
  {
   "cell_type": "code",
   "execution_count": null,
   "metadata": {},
   "outputs": [],
   "source": [
    "x = np.linspace(-1, 2)\n",
    "y = x**3\n",
    "\n",
    "fx = x * y\n",
    "fy = x * x\n",
    "\n",
    "set1 = [np.zeros_like(x), y, fy]\n",
    "set2 = [np.zeros_like(x), np.zeros_like(y), np.zeros_like(fy)]\n",
    "\n",
    "fig = plt.figure()\n",
    "ax = fig.add_subplot(111, projection='3d')\n",
    "\n",
    "ax.plot(x, y, 0)\n",
    "ax.plot(x, y, fy)\n",
    "ax.plot(*set1, lw=4)\n",
    "ax.plot(*set2, lw=4)\n",
    "fill_between_3d(ax, *set1, *set2, mode = 1)\n",
    "plt.xlabel('x')\n",
    "plt.ylabel('y')\n",
    "plt.grid(True)\n",
    "\n"
   ]
  },
  {
   "cell_type": "code",
   "execution_count": null,
   "metadata": {},
   "outputs": [],
   "source": []
  }
 ],
 "metadata": {
  "colab": {
   "provenance": [
    {
     "file_id": "https://github.com/kangwonlee/eng-math-2/blob/main/Ch09_04.ipynb",
     "timestamp": 1730189730769
    }
   ]
  },
  "kernelspec": {
   "display_name": "Python 3 (ipykernel)",
   "language": "python",
   "name": "python3"
  },
  "language_info": {
   "codemirror_mode": {
    "name": "ipython",
    "version": 3
   },
   "file_extension": ".py",
   "mimetype": "text/x-python",
   "name": "python",
   "nbconvert_exporter": "python",
   "pygments_lexer": "ipython3",
   "version": "3.10.0"
  }
 },
 "nbformat": 4,
 "nbformat_minor": 5
}